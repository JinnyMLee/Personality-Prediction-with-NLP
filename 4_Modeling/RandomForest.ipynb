{
 "cells": [
  {
   "cell_type": "code",
   "execution_count": 1,
   "metadata": {},
   "outputs": [],
   "source": [
    "import pandas as pd\n",
    "import numpy as np\n",
    "import re\n",
    "from collections import Counter\n",
    "from wordcloud import WordCloud\n",
    "import matplotlib.pyplot as plt\n",
    "import pickle\n",
    "import time\n",
    "from sklearn.feature_extraction.text import TfidfVectorizer"
   ]
  },
  {
   "cell_type": "code",
   "execution_count": 2,
   "metadata": {},
   "outputs": [],
   "source": [
    "with open('zebal_version2.pickle', 'rb') as f:\n",
    "    df = pickle.load(f)"
   ]
  },
  {
   "cell_type": "code",
   "execution_count": 3,
   "metadata": {},
   "outputs": [],
   "source": [
    "df = df[df['board']!='가입 인사 (등업 필수)']\n",
    "df = df.reset_index()"
   ]
  },
  {
   "cell_type": "code",
   "execution_count": 4,
   "metadata": {
    "scrolled": true
   },
   "outputs": [
    {
     "data": {
      "text/plain": [
       "(28569, 13)"
      ]
     },
     "execution_count": 4,
     "metadata": {},
     "output_type": "execute_result"
    }
   ],
   "source": [
    "df.shape"
   ]
  },
  {
   "cell_type": "code",
   "execution_count": 5,
   "metadata": {},
   "outputs": [],
   "source": [
    "from gensim.corpora import Dictionary\n",
    "from gensim.models.tfidfmodel import TfidfModel\n",
    "from gensim.matutils import sparse2full"
   ]
  },
  {
   "cell_type": "code",
   "execution_count": 6,
   "metadata": {},
   "outputs": [],
   "source": [
    "docs_dict = Dictionary(df['morphs'])\n",
    "docs_dict.filter_extremes(no_below=20, no_above=0.2)\n",
    "docs_dict.compactify()"
   ]
  },
  {
   "cell_type": "code",
   "execution_count": 7,
   "metadata": {},
   "outputs": [],
   "source": [
    "docs_corpus = [docs_dict.doc2bow(doc) for doc in df['morphs']]\n",
    "model_tfidf = TfidfModel(docs_corpus, id2word=docs_dict)\n",
    "docs_tfidf  = model_tfidf[docs_corpus]"
   ]
  },
  {
   "cell_type": "code",
   "execution_count": 8,
   "metadata": {},
   "outputs": [],
   "source": [
    "docs_vecs   = np.vstack([sparse2full(c, len(docs_dict)) for c in docs_tfidf])"
   ]
  },
  {
   "cell_type": "code",
   "execution_count": 9,
   "metadata": {},
   "outputs": [
    {
     "data": {
      "text/plain": [
       "(28569, 9798)"
      ]
     },
     "execution_count": 9,
     "metadata": {},
     "output_type": "execute_result"
    }
   ],
   "source": [
    "docs_vecs.shape"
   ]
  },
  {
   "cell_type": "code",
   "execution_count": 114,
   "metadata": {},
   "outputs": [
    {
     "name": "stdout",
     "output_type": "stream",
     "text": [
      "(28569, 9798)\n"
     ]
    },
    {
     "data": {
      "text/html": [
       "<div>\n",
       "<style scoped>\n",
       "    .dataframe tbody tr th:only-of-type {\n",
       "        vertical-align: middle;\n",
       "    }\n",
       "\n",
       "    .dataframe tbody tr th {\n",
       "        vertical-align: top;\n",
       "    }\n",
       "\n",
       "    .dataframe thead th {\n",
       "        text-align: right;\n",
       "    }\n",
       "</style>\n",
       "<table border=\"1\" class=\"dataframe\">\n",
       "  <thead>\n",
       "    <tr style=\"text-align: right;\">\n",
       "      <th></th>\n",
       "      <th>0</th>\n",
       "      <th>1</th>\n",
       "      <th>2</th>\n",
       "      <th>3</th>\n",
       "      <th>4</th>\n",
       "      <th>5</th>\n",
       "      <th>6</th>\n",
       "      <th>7</th>\n",
       "      <th>8</th>\n",
       "      <th>9</th>\n",
       "      <th>...</th>\n",
       "      <th>9788</th>\n",
       "      <th>9789</th>\n",
       "      <th>9790</th>\n",
       "      <th>9791</th>\n",
       "      <th>9792</th>\n",
       "      <th>9793</th>\n",
       "      <th>9794</th>\n",
       "      <th>9795</th>\n",
       "      <th>9796</th>\n",
       "      <th>9797</th>\n",
       "    </tr>\n",
       "  </thead>\n",
       "  <tbody>\n",
       "    <tr>\n",
       "      <th>0</th>\n",
       "      <td>0.042929</td>\n",
       "      <td>0.072390</td>\n",
       "      <td>0.043678</td>\n",
       "      <td>0.032439</td>\n",
       "      <td>0.041437</td>\n",
       "      <td>0.027148</td>\n",
       "      <td>0.038549</td>\n",
       "      <td>0.034870</td>\n",
       "      <td>0.019400</td>\n",
       "      <td>0.048566</td>\n",
       "      <td>...</td>\n",
       "      <td>0.0</td>\n",
       "      <td>0.0</td>\n",
       "      <td>0.0</td>\n",
       "      <td>0.0</td>\n",
       "      <td>0.0</td>\n",
       "      <td>0.0</td>\n",
       "      <td>0.0</td>\n",
       "      <td>0.0</td>\n",
       "      <td>0.0</td>\n",
       "      <td>0.0</td>\n",
       "    </tr>\n",
       "    <tr>\n",
       "      <th>1</th>\n",
       "      <td>0.000000</td>\n",
       "      <td>0.000000</td>\n",
       "      <td>0.000000</td>\n",
       "      <td>0.000000</td>\n",
       "      <td>0.000000</td>\n",
       "      <td>0.109378</td>\n",
       "      <td>0.051771</td>\n",
       "      <td>0.000000</td>\n",
       "      <td>0.026054</td>\n",
       "      <td>0.000000</td>\n",
       "      <td>...</td>\n",
       "      <td>0.0</td>\n",
       "      <td>0.0</td>\n",
       "      <td>0.0</td>\n",
       "      <td>0.0</td>\n",
       "      <td>0.0</td>\n",
       "      <td>0.0</td>\n",
       "      <td>0.0</td>\n",
       "      <td>0.0</td>\n",
       "      <td>0.0</td>\n",
       "      <td>0.0</td>\n",
       "    </tr>\n",
       "    <tr>\n",
       "      <th>2</th>\n",
       "      <td>0.035297</td>\n",
       "      <td>0.089282</td>\n",
       "      <td>0.000000</td>\n",
       "      <td>0.000000</td>\n",
       "      <td>0.000000</td>\n",
       "      <td>0.000000</td>\n",
       "      <td>0.047545</td>\n",
       "      <td>0.000000</td>\n",
       "      <td>0.079758</td>\n",
       "      <td>0.000000</td>\n",
       "      <td>...</td>\n",
       "      <td>0.0</td>\n",
       "      <td>0.0</td>\n",
       "      <td>0.0</td>\n",
       "      <td>0.0</td>\n",
       "      <td>0.0</td>\n",
       "      <td>0.0</td>\n",
       "      <td>0.0</td>\n",
       "      <td>0.0</td>\n",
       "      <td>0.0</td>\n",
       "      <td>0.0</td>\n",
       "    </tr>\n",
       "    <tr>\n",
       "      <th>3</th>\n",
       "      <td>0.229646</td>\n",
       "      <td>0.000000</td>\n",
       "      <td>0.000000</td>\n",
       "      <td>0.000000</td>\n",
       "      <td>0.000000</td>\n",
       "      <td>0.000000</td>\n",
       "      <td>0.029460</td>\n",
       "      <td>0.053296</td>\n",
       "      <td>0.029652</td>\n",
       "      <td>0.000000</td>\n",
       "      <td>...</td>\n",
       "      <td>0.0</td>\n",
       "      <td>0.0</td>\n",
       "      <td>0.0</td>\n",
       "      <td>0.0</td>\n",
       "      <td>0.0</td>\n",
       "      <td>0.0</td>\n",
       "      <td>0.0</td>\n",
       "      <td>0.0</td>\n",
       "      <td>0.0</td>\n",
       "      <td>0.0</td>\n",
       "    </tr>\n",
       "    <tr>\n",
       "      <th>4</th>\n",
       "      <td>0.000000</td>\n",
       "      <td>0.000000</td>\n",
       "      <td>0.000000</td>\n",
       "      <td>0.000000</td>\n",
       "      <td>0.000000</td>\n",
       "      <td>0.000000</td>\n",
       "      <td>0.000000</td>\n",
       "      <td>0.000000</td>\n",
       "      <td>0.000000</td>\n",
       "      <td>0.000000</td>\n",
       "      <td>...</td>\n",
       "      <td>0.0</td>\n",
       "      <td>0.0</td>\n",
       "      <td>0.0</td>\n",
       "      <td>0.0</td>\n",
       "      <td>0.0</td>\n",
       "      <td>0.0</td>\n",
       "      <td>0.0</td>\n",
       "      <td>0.0</td>\n",
       "      <td>0.0</td>\n",
       "      <td>0.0</td>\n",
       "    </tr>\n",
       "  </tbody>\n",
       "</table>\n",
       "<p>5 rows × 9798 columns</p>\n",
       "</div>"
      ],
      "text/plain": [
       "       0         1         2         3         4         5         6     \\\n",
       "0  0.042929  0.072390  0.043678  0.032439  0.041437  0.027148  0.038549   \n",
       "1  0.000000  0.000000  0.000000  0.000000  0.000000  0.109378  0.051771   \n",
       "2  0.035297  0.089282  0.000000  0.000000  0.000000  0.000000  0.047545   \n",
       "3  0.229646  0.000000  0.000000  0.000000  0.000000  0.000000  0.029460   \n",
       "4  0.000000  0.000000  0.000000  0.000000  0.000000  0.000000  0.000000   \n",
       "\n",
       "       7         8         9     ...  9788  9789  9790  9791  9792  9793  \\\n",
       "0  0.034870  0.019400  0.048566  ...   0.0   0.0   0.0   0.0   0.0   0.0   \n",
       "1  0.000000  0.026054  0.000000  ...   0.0   0.0   0.0   0.0   0.0   0.0   \n",
       "2  0.000000  0.079758  0.000000  ...   0.0   0.0   0.0   0.0   0.0   0.0   \n",
       "3  0.053296  0.029652  0.000000  ...   0.0   0.0   0.0   0.0   0.0   0.0   \n",
       "4  0.000000  0.000000  0.000000  ...   0.0   0.0   0.0   0.0   0.0   0.0   \n",
       "\n",
       "   9794  9795  9796  9797  \n",
       "0   0.0   0.0   0.0   0.0  \n",
       "1   0.0   0.0   0.0   0.0  \n",
       "2   0.0   0.0   0.0   0.0  \n",
       "3   0.0   0.0   0.0   0.0  \n",
       "4   0.0   0.0   0.0   0.0  \n",
       "\n",
       "[5 rows x 9798 columns]"
      ]
     },
     "execution_count": 114,
     "metadata": {},
     "output_type": "execute_result"
    }
   ],
   "source": [
    "tfidf = pd.DataFrame(docs_vecs)\n",
    "print(tfidf.shape)\n",
    "tfidf.head()"
   ]
  },
  {
   "cell_type": "code",
   "execution_count": 12,
   "metadata": {},
   "outputs": [],
   "source": [
    "df['L1'] = df['type'].apply(lambda x: x[0].upper())\n",
    "df['L2'] = df['type'].apply(lambda x: x[1].upper())\n",
    "df['L3'] = df['type'].apply(lambda x: x[2].upper())\n",
    "df['L4'] = df['type'].apply(lambda x: x[3].upper())"
   ]
  },
  {
   "cell_type": "code",
   "execution_count": 14,
   "metadata": {},
   "outputs": [
    {
     "name": "stdout",
     "output_type": "stream",
     "text": [
      "(19141, 9798)\n",
      "(19141,)\n",
      "(9428, 9798)\n",
      "(9428,)\n"
     ]
    }
   ],
   "source": [
    "from sklearn.model_selection import train_test_split\n",
    "\n",
    "X_train, X_test, y_train, y_test = train_test_split(tfidf, df['L1'], test_size=0.33, shuffle=True)\n",
    "\n",
    "print(X_train.shape)\n",
    "print(y_train.shape)\n",
    "print(X_test.shape)\n",
    "print(y_test.shape)"
   ]
  },
  {
   "cell_type": "code",
   "execution_count": 15,
   "metadata": {},
   "outputs": [
    {
     "name": "stdout",
     "output_type": "stream",
     "text": [
      "Accuracy on training set: 0.999\n",
      "Accuracy on test set: 0.723\n"
     ]
    }
   ],
   "source": [
    "from sklearn.ensemble import RandomForestClassifier\n",
    "\n",
    "rf = RandomForestClassifier(n_estimators=100)\n",
    "rf.fit(X_train, y_train)\n",
    "print(\"Accuracy on training set: {:.3f}\".format(rf.score(X_train, y_train)))\n",
    "print(\"Accuracy on test set: {:.3f}\".format(rf.score(X_test, y_test)))"
   ]
  },
  {
   "cell_type": "code",
   "execution_count": 16,
   "metadata": {},
   "outputs": [],
   "source": [
    "with open('all_embbeding_df_v2.pickle', 'rb') as f:\n",
    "    em = pickle.load(f)"
   ]
  },
  {
   "cell_type": "code",
   "execution_count": 17,
   "metadata": {},
   "outputs": [],
   "source": [
    "def make_matrix(ndf):\n",
    "    target=[]\n",
    "    for i in ndf:\n",
    "        target.append(i)\n",
    "    return pd.DataFrame(target)"
   ]
  },
  {
   "cell_type": "code",
   "execution_count": 18,
   "metadata": {},
   "outputs": [],
   "source": [
    "d2v_dvow = make_matrix(em['doc2vec_PV_DBOW'])\n",
    "d2v_dm   = make_matrix(em['doc2vec_PV_DMO'])\n",
    "w2v_cbow = make_matrix(em['w2v_cbow_avg'])\n",
    "w2v_sg   = make_matrix(em['w2v_skipgram_avg'])\n",
    "ft_cbow  = make_matrix(em['ft_cbow_avg'])\n",
    "ft_sg    = make_matrix(em['ft_skip_gram_avg'])\n",
    "bert     = make_matrix(em['bert'])"
   ]
  },
  {
   "cell_type": "code",
   "execution_count": 21,
   "metadata": {},
   "outputs": [
    {
     "name": "stdout",
     "output_type": "stream",
     "text": [
      "(28569, 300)\n",
      "(28569, 300)\n",
      "(28569, 300)\n",
      "(28569, 300)\n",
      "(28569, 300)\n",
      "(28569, 300)\n",
      "(28569, 768)\n"
     ]
    }
   ],
   "source": [
    "print(d2v_dvow.shape)\n",
    "print(d2v_dm.shape)\n",
    "print(w2v_cbow.shape)\n",
    "print(w2v_sg.shape)\n",
    "print(ft_cbow.shape)\n",
    "print(ft_sg.shape)\n",
    "print(bert.shape)"
   ]
  },
  {
   "cell_type": "code",
   "execution_count": 23,
   "metadata": {},
   "outputs": [
    {
     "name": "stdout",
     "output_type": "stream",
     "text": [
      "(19141, 300)\n",
      "(19141,)\n",
      "(9428, 300)\n",
      "(9428,)\n"
     ]
    }
   ],
   "source": [
    "X_train, X_test, y_train, y_test = train_test_split(d2v_dvow, df['L1'], test_size=0.33, shuffle=True)\n",
    "\n",
    "print(X_train.shape)\n",
    "print(y_train.shape)\n",
    "print(X_test.shape)\n",
    "print(y_test.shape)"
   ]
  },
  {
   "cell_type": "code",
   "execution_count": 24,
   "metadata": {},
   "outputs": [
    {
     "name": "stdout",
     "output_type": "stream",
     "text": [
      "Accuracy on training set: 1.000\n",
      "Accuracy on test set: 0.678\n"
     ]
    }
   ],
   "source": [
    "rf1 = RandomForestClassifier(n_estimators=100)\n",
    "rf1.fit(X_train, y_train)\n",
    "print(\"Accuracy on training set: {:.3f}\".format(rf1.score(X_train, y_train)))\n",
    "print(\"Accuracy on test set: {:.3f}\".format(rf1.score(X_test, y_test)))"
   ]
  },
  {
   "cell_type": "code",
   "execution_count": 25,
   "metadata": {},
   "outputs": [
    {
     "name": "stdout",
     "output_type": "stream",
     "text": [
      "(19141, 300)\n",
      "(19141,)\n",
      "(9428, 300)\n",
      "(9428,)\n"
     ]
    }
   ],
   "source": [
    "X_train, X_test, y_train, y_test = train_test_split(d2v_dm, df['L1'], test_size=0.33, shuffle=True)\n",
    "\n",
    "print(X_train.shape)\n",
    "print(y_train.shape)\n",
    "print(X_test.shape)\n",
    "print(y_test.shape)"
   ]
  },
  {
   "cell_type": "code",
   "execution_count": 26,
   "metadata": {},
   "outputs": [
    {
     "name": "stdout",
     "output_type": "stream",
     "text": [
      "Accuracy on training set: 1.000\n",
      "Accuracy on test set: 0.674\n"
     ]
    }
   ],
   "source": [
    "rf2 = RandomForestClassifier(n_estimators=100)\n",
    "rf2.fit(X_train, y_train)\n",
    "print(\"Accuracy on training set: {:.3f}\".format(rf2.score(X_train, y_train)))\n",
    "print(\"Accuracy on test set: {:.3f}\".format(rf2.score(X_test, y_test)))"
   ]
  },
  {
   "cell_type": "code",
   "execution_count": 31,
   "metadata": {},
   "outputs": [
    {
     "name": "stdout",
     "output_type": "stream",
     "text": [
      "(19141, 768)\n",
      "(19141,)\n",
      "(9428, 768)\n",
      "(9428,)\n"
     ]
    }
   ],
   "source": [
    "X_train, X_test, y_train, y_test = train_test_split(bert, df['L1'], test_size=0.33, shuffle=True)\n",
    "\n",
    "print(X_train.shape)\n",
    "print(y_train.shape)\n",
    "print(X_test.shape)\n",
    "print(y_test.shape)"
   ]
  },
  {
   "cell_type": "code",
   "execution_count": 32,
   "metadata": {},
   "outputs": [
    {
     "name": "stdout",
     "output_type": "stream",
     "text": [
      "Accuracy on training set: 0.998\n",
      "Accuracy on test set: 0.673\n"
     ]
    }
   ],
   "source": [
    "rf3 = RandomForestClassifier(n_estimators=100)\n",
    "rf3.fit(X_train, y_train)\n",
    "print(\"Accuracy on training set: {:.3f}\".format(rf3.score(X_train, y_train)))\n",
    "print(\"Accuracy on test set: {:.3f}\".format(rf3.score(X_test, y_test)))"
   ]
  },
  {
   "cell_type": "code",
   "execution_count": 33,
   "metadata": {},
   "outputs": [
    {
     "name": "stdout",
     "output_type": "stream",
     "text": [
      "(19141, 300)\n",
      "(19141,)\n",
      "(9428, 300)\n",
      "(9428,)\n"
     ]
    }
   ],
   "source": [
    "X_train, X_test, y_train, y_test = train_test_split(ft_sg, df['L1'], test_size=0.33, shuffle=True)\n",
    "\n",
    "print(X_train.shape)\n",
    "print(y_train.shape)\n",
    "print(X_test.shape)\n",
    "print(y_test.shape)"
   ]
  },
  {
   "cell_type": "code",
   "execution_count": 34,
   "metadata": {},
   "outputs": [
    {
     "name": "stdout",
     "output_type": "stream",
     "text": [
      "Accuracy on training set: 1.000\n",
      "Accuracy on test set: 0.685\n"
     ]
    }
   ],
   "source": [
    "rf4 = RandomForestClassifier(n_estimators=100)\n",
    "rf4.fit(X_train, y_train)\n",
    "print(\"Accuracy on training set: {:.3f}\".format(rf4.score(X_train, y_train)))\n",
    "print(\"Accuracy on test set: {:.3f}\".format(rf4.score(X_test, y_test)))"
   ]
  },
  {
   "cell_type": "code",
   "execution_count": 35,
   "metadata": {},
   "outputs": [
    {
     "name": "stdout",
     "output_type": "stream",
     "text": [
      "(19141, 300)\n",
      "(19141,)\n",
      "(9428, 300)\n",
      "(9428,)\n"
     ]
    }
   ],
   "source": [
    "X_train, X_test, y_train, y_test = train_test_split(ft_cbow, df['L1'], test_size=0.33, shuffle=True)\n",
    "\n",
    "print(X_train.shape)\n",
    "print(y_train.shape)\n",
    "print(X_test.shape)\n",
    "print(y_test.shape)"
   ]
  },
  {
   "cell_type": "code",
   "execution_count": 36,
   "metadata": {},
   "outputs": [
    {
     "name": "stdout",
     "output_type": "stream",
     "text": [
      "Accuracy on training set: 1.000\n",
      "Accuracy on test set: 0.678\n"
     ]
    }
   ],
   "source": [
    "rf5 = RandomForestClassifier(n_estimators=100)\n",
    "rf5.fit(X_train, y_train)\n",
    "print(\"Accuracy on training set: {:.3f}\".format(rf5.score(X_train, y_train)))\n",
    "print(\"Accuracy on test set: {:.3f}\".format(rf5.score(X_test, y_test)))"
   ]
  },
  {
   "cell_type": "code",
   "execution_count": 39,
   "metadata": {},
   "outputs": [
    {
     "name": "stderr",
     "output_type": "stream",
     "text": [
      "c:\\users\\jinny\\miniconda3\\lib\\site-packages\\pandas\\core\\frame.py:4042: SettingWithCopyWarning: \n",
      "A value is trying to be set on a copy of a slice from a DataFrame\n",
      "\n",
      "See the caveats in the documentation: http://pandas.pydata.org/pandas-docs/stable/indexing.html#indexing-view-versus-copy\n",
      "  method=method)\n"
     ]
    },
    {
     "name": "stdout",
     "output_type": "stream",
     "text": [
      "(19141, 300)\n",
      "(19141,)\n",
      "(9428, 300)\n",
      "(9428,)\n"
     ]
    }
   ],
   "source": [
    "X_train, X_test, y_train, y_test = train_test_split(w2v_cbow, df['L1'], test_size=0.33, shuffle=True)\n",
    "\n",
    "X_train.replace([np.nan, np.inf, -np.inf], 0, inplace=True)\n",
    "X_test.replace([np.nan, np.inf, -np.inf], 0, inplace=True)\n",
    "\n",
    "print(X_train.shape)\n",
    "print(y_train.shape)\n",
    "print(X_test.shape)\n",
    "print(y_test.shape)"
   ]
  },
  {
   "cell_type": "code",
   "execution_count": 40,
   "metadata": {},
   "outputs": [
    {
     "name": "stdout",
     "output_type": "stream",
     "text": [
      "Accuracy on training set: 1.000\n",
      "Accuracy on test set: 0.672\n"
     ]
    }
   ],
   "source": [
    "rf6 = RandomForestClassifier(n_estimators=100)\n",
    "rf6.fit(X_train, y_train)\n",
    "print(\"Accuracy on training set: {:.3f}\".format(rf6.score(X_train, y_train)))\n",
    "print(\"Accuracy on test set: {:.3f}\".format(rf6.score(X_test, y_test)))"
   ]
  },
  {
   "cell_type": "code",
   "execution_count": 41,
   "metadata": {},
   "outputs": [
    {
     "name": "stderr",
     "output_type": "stream",
     "text": [
      "c:\\users\\jinny\\miniconda3\\lib\\site-packages\\pandas\\core\\frame.py:4042: SettingWithCopyWarning: \n",
      "A value is trying to be set on a copy of a slice from a DataFrame\n",
      "\n",
      "See the caveats in the documentation: http://pandas.pydata.org/pandas-docs/stable/indexing.html#indexing-view-versus-copy\n",
      "  method=method)\n"
     ]
    },
    {
     "name": "stdout",
     "output_type": "stream",
     "text": [
      "(19141, 300)\n",
      "(19141,)\n",
      "(9428, 300)\n",
      "(9428,)\n"
     ]
    }
   ],
   "source": [
    "X_train, X_test, y_train, y_test = train_test_split(w2v_sg, df['L1'], test_size=0.33, shuffle=True)\n",
    "\n",
    "X_train.replace([np.nan, np.inf, -np.inf], 0, inplace=True)\n",
    "X_test.replace([np.nan, np.inf, -np.inf], 0, inplace=True)\n",
    "\n",
    "print(X_train.shape)\n",
    "print(y_train.shape)\n",
    "print(X_test.shape)\n",
    "print(y_test.shape)"
   ]
  },
  {
   "cell_type": "code",
   "execution_count": 42,
   "metadata": {},
   "outputs": [
    {
     "name": "stdout",
     "output_type": "stream",
     "text": [
      "Accuracy on training set: 1.000\n",
      "Accuracy on test set: 0.681\n"
     ]
    }
   ],
   "source": [
    "rf7 = RandomForestClassifier(n_estimators=100)\n",
    "rf7.fit(X_train, y_train)\n",
    "print(\"Accuracy on training set: {:.3f}\".format(rf7.score(X_train, y_train)))\n",
    "print(\"Accuracy on test set: {:.3f}\".format(rf7.score(X_test, y_test)))"
   ]
  },
  {
   "cell_type": "code",
   "execution_count": 43,
   "metadata": {},
   "outputs": [],
   "source": [
    "with open('tfidf_weighted_ft_cbow.pickle', 'rb') as f:\n",
    "    tfidf_ft_cbow = pickle.load(f)"
   ]
  },
  {
   "cell_type": "code",
   "execution_count": 44,
   "metadata": {},
   "outputs": [],
   "source": [
    "with open('tfidf_weighted_w2v_cbow.pickle', 'rb') as f:\n",
    "    tfidf_w2v_cbow = pickle.load(f)"
   ]
  },
  {
   "cell_type": "code",
   "execution_count": 45,
   "metadata": {},
   "outputs": [
    {
     "name": "stdout",
     "output_type": "stream",
     "text": [
      "(28569, 300)\n",
      "(28569, 300)\n"
     ]
    }
   ],
   "source": [
    "print(tfidf_ft_cbow.shape)\n",
    "print(tfidf_w2v_cbow.shape)"
   ]
  },
  {
   "cell_type": "code",
   "execution_count": 46,
   "metadata": {},
   "outputs": [
    {
     "name": "stdout",
     "output_type": "stream",
     "text": [
      "(19141, 300)\n",
      "(19141,)\n",
      "(9428, 300)\n",
      "(9428,)\n"
     ]
    }
   ],
   "source": [
    "X_train, X_test, y_train, y_test = train_test_split(tfidf_ft_cbow, df['L1'], test_size=0.33, shuffle=True)\n",
    "\n",
    "print(X_train.shape)\n",
    "print(y_train.shape)\n",
    "print(X_test.shape)\n",
    "print(y_test.shape)"
   ]
  },
  {
   "cell_type": "code",
   "execution_count": 47,
   "metadata": {},
   "outputs": [
    {
     "name": "stdout",
     "output_type": "stream",
     "text": [
      "Accuracy on training set: 1.000\n",
      "Accuracy on test set: 0.674\n"
     ]
    }
   ],
   "source": [
    "rf8 = RandomForestClassifier(n_estimators=100)\n",
    "rf8.fit(X_train, y_train)\n",
    "print(\"Accuracy on training set: {:.3f}\".format(rf8.score(X_train, y_train)))\n",
    "print(\"Accuracy on test set: {:.3f}\".format(rf8.score(X_test, y_test)))"
   ]
  },
  {
   "cell_type": "code",
   "execution_count": 48,
   "metadata": {},
   "outputs": [
    {
     "name": "stdout",
     "output_type": "stream",
     "text": [
      "(19141, 300)\n",
      "(19141,)\n",
      "(9428, 300)\n",
      "(9428,)\n"
     ]
    }
   ],
   "source": [
    "X_train, X_test, y_train, y_test = train_test_split(tfidf_w2v_cbow, df['L1'], test_size=0.33, shuffle=True)\n",
    "\n",
    "print(X_train.shape)\n",
    "print(y_train.shape)\n",
    "print(X_test.shape)\n",
    "print(y_test.shape)"
   ]
  },
  {
   "cell_type": "code",
   "execution_count": 49,
   "metadata": {},
   "outputs": [
    {
     "name": "stdout",
     "output_type": "stream",
     "text": [
      "Accuracy on training set: 0.999\n",
      "Accuracy on test set: 0.677\n"
     ]
    }
   ],
   "source": [
    "rf9 = RandomForestClassifier(n_estimators=100)\n",
    "rf9.fit(X_train, y_train)\n",
    "print(\"Accuracy on training set: {:.3f}\".format(rf9.score(X_train, y_train)))\n",
    "print(\"Accuracy on test set: {:.3f}\".format(rf9.score(X_test, y_test)))"
   ]
  },
  {
   "cell_type": "code",
   "execution_count": 57,
   "metadata": {},
   "outputs": [],
   "source": [
    "tfidf_ft_cbow = pd.DataFrame(tfidf_ft_cbow)"
   ]
  },
  {
   "cell_type": "code",
   "execution_count": 66,
   "metadata": {},
   "outputs": [],
   "source": [
    "tfidf_ft_cbow['doc_length'] = tfidf.astype(bool).sum(axis=1)"
   ]
  },
  {
   "cell_type": "code",
   "execution_count": 67,
   "metadata": {
    "scrolled": true
   },
   "outputs": [
    {
     "data": {
      "text/html": [
       "<div>\n",
       "<style scoped>\n",
       "    .dataframe tbody tr th:only-of-type {\n",
       "        vertical-align: middle;\n",
       "    }\n",
       "\n",
       "    .dataframe tbody tr th {\n",
       "        vertical-align: top;\n",
       "    }\n",
       "\n",
       "    .dataframe thead th {\n",
       "        text-align: right;\n",
       "    }\n",
       "</style>\n",
       "<table border=\"1\" class=\"dataframe\">\n",
       "  <thead>\n",
       "    <tr style=\"text-align: right;\">\n",
       "      <th></th>\n",
       "      <th>0</th>\n",
       "      <th>1</th>\n",
       "      <th>2</th>\n",
       "      <th>3</th>\n",
       "      <th>4</th>\n",
       "      <th>5</th>\n",
       "      <th>6</th>\n",
       "      <th>7</th>\n",
       "      <th>8</th>\n",
       "      <th>9</th>\n",
       "      <th>...</th>\n",
       "      <th>291</th>\n",
       "      <th>292</th>\n",
       "      <th>293</th>\n",
       "      <th>294</th>\n",
       "      <th>295</th>\n",
       "      <th>296</th>\n",
       "      <th>297</th>\n",
       "      <th>298</th>\n",
       "      <th>299</th>\n",
       "      <th>doc_length</th>\n",
       "    </tr>\n",
       "  </thead>\n",
       "  <tbody>\n",
       "    <tr>\n",
       "      <th>0</th>\n",
       "      <td>-3.056679</td>\n",
       "      <td>-14.323002</td>\n",
       "      <td>22.047594</td>\n",
       "      <td>5.649813</td>\n",
       "      <td>-7.647969</td>\n",
       "      <td>-17.724348</td>\n",
       "      <td>8.904348</td>\n",
       "      <td>7.419140</td>\n",
       "      <td>-11.971848</td>\n",
       "      <td>6.308992</td>\n",
       "      <td>...</td>\n",
       "      <td>-9.683761</td>\n",
       "      <td>-0.663285</td>\n",
       "      <td>-7.988602</td>\n",
       "      <td>-4.617202</td>\n",
       "      <td>-18.561714</td>\n",
       "      <td>12.227542</td>\n",
       "      <td>14.009789</td>\n",
       "      <td>-20.620363</td>\n",
       "      <td>5.808738</td>\n",
       "      <td>187</td>\n",
       "    </tr>\n",
       "    <tr>\n",
       "      <th>1</th>\n",
       "      <td>-3.492559</td>\n",
       "      <td>-13.700104</td>\n",
       "      <td>15.758248</td>\n",
       "      <td>14.620514</td>\n",
       "      <td>-13.091576</td>\n",
       "      <td>-18.462344</td>\n",
       "      <td>11.730476</td>\n",
       "      <td>3.339061</td>\n",
       "      <td>-8.214804</td>\n",
       "      <td>3.016187</td>\n",
       "      <td>...</td>\n",
       "      <td>-12.188702</td>\n",
       "      <td>-3.803913</td>\n",
       "      <td>-7.276903</td>\n",
       "      <td>-5.728725</td>\n",
       "      <td>-6.777703</td>\n",
       "      <td>10.424125</td>\n",
       "      <td>14.788713</td>\n",
       "      <td>-11.396765</td>\n",
       "      <td>11.397697</td>\n",
       "      <td>107</td>\n",
       "    </tr>\n",
       "    <tr>\n",
       "      <th>2</th>\n",
       "      <td>12.133795</td>\n",
       "      <td>-10.051956</td>\n",
       "      <td>21.768468</td>\n",
       "      <td>20.949859</td>\n",
       "      <td>-24.642687</td>\n",
       "      <td>-32.412084</td>\n",
       "      <td>36.642935</td>\n",
       "      <td>29.364848</td>\n",
       "      <td>-27.717601</td>\n",
       "      <td>24.385785</td>\n",
       "      <td>...</td>\n",
       "      <td>18.062141</td>\n",
       "      <td>3.661026</td>\n",
       "      <td>-18.630547</td>\n",
       "      <td>-4.459971</td>\n",
       "      <td>-33.010792</td>\n",
       "      <td>-2.097863</td>\n",
       "      <td>27.439975</td>\n",
       "      <td>-24.291529</td>\n",
       "      <td>10.235375</td>\n",
       "      <td>167</td>\n",
       "    </tr>\n",
       "    <tr>\n",
       "      <th>3</th>\n",
       "      <td>38.749646</td>\n",
       "      <td>-4.481841</td>\n",
       "      <td>-13.748722</td>\n",
       "      <td>-12.367349</td>\n",
       "      <td>-85.487468</td>\n",
       "      <td>-120.258891</td>\n",
       "      <td>28.924157</td>\n",
       "      <td>59.043577</td>\n",
       "      <td>-55.906252</td>\n",
       "      <td>49.075628</td>\n",
       "      <td>...</td>\n",
       "      <td>32.391058</td>\n",
       "      <td>6.640453</td>\n",
       "      <td>-4.400569</td>\n",
       "      <td>26.604966</td>\n",
       "      <td>-11.427141</td>\n",
       "      <td>49.428109</td>\n",
       "      <td>47.061490</td>\n",
       "      <td>-32.930481</td>\n",
       "      <td>51.669129</td>\n",
       "      <td>264</td>\n",
       "    </tr>\n",
       "    <tr>\n",
       "      <th>4</th>\n",
       "      <td>0.875521</td>\n",
       "      <td>-1.576987</td>\n",
       "      <td>0.038765</td>\n",
       "      <td>2.452560</td>\n",
       "      <td>-1.454332</td>\n",
       "      <td>1.156210</td>\n",
       "      <td>2.818536</td>\n",
       "      <td>3.561648</td>\n",
       "      <td>-1.414714</td>\n",
       "      <td>0.645277</td>\n",
       "      <td>...</td>\n",
       "      <td>0.631251</td>\n",
       "      <td>0.663567</td>\n",
       "      <td>-1.746502</td>\n",
       "      <td>1.425575</td>\n",
       "      <td>-2.103482</td>\n",
       "      <td>0.785906</td>\n",
       "      <td>1.702815</td>\n",
       "      <td>-0.052868</td>\n",
       "      <td>1.221824</td>\n",
       "      <td>11</td>\n",
       "    </tr>\n",
       "  </tbody>\n",
       "</table>\n",
       "<p>5 rows × 301 columns</p>\n",
       "</div>"
      ],
      "text/plain": [
       "           0          1          2          3          4           5  \\\n",
       "0  -3.056679 -14.323002  22.047594   5.649813  -7.647969  -17.724348   \n",
       "1  -3.492559 -13.700104  15.758248  14.620514 -13.091576  -18.462344   \n",
       "2  12.133795 -10.051956  21.768468  20.949859 -24.642687  -32.412084   \n",
       "3  38.749646  -4.481841 -13.748722 -12.367349 -85.487468 -120.258891   \n",
       "4   0.875521  -1.576987   0.038765   2.452560  -1.454332    1.156210   \n",
       "\n",
       "           6          7          8          9  ...        291       292  \\\n",
       "0   8.904348   7.419140 -11.971848   6.308992  ...  -9.683761 -0.663285   \n",
       "1  11.730476   3.339061  -8.214804   3.016187  ... -12.188702 -3.803913   \n",
       "2  36.642935  29.364848 -27.717601  24.385785  ...  18.062141  3.661026   \n",
       "3  28.924157  59.043577 -55.906252  49.075628  ...  32.391058  6.640453   \n",
       "4   2.818536   3.561648  -1.414714   0.645277  ...   0.631251  0.663567   \n",
       "\n",
       "         293        294        295        296        297        298  \\\n",
       "0  -7.988602  -4.617202 -18.561714  12.227542  14.009789 -20.620363   \n",
       "1  -7.276903  -5.728725  -6.777703  10.424125  14.788713 -11.396765   \n",
       "2 -18.630547  -4.459971 -33.010792  -2.097863  27.439975 -24.291529   \n",
       "3  -4.400569  26.604966 -11.427141  49.428109  47.061490 -32.930481   \n",
       "4  -1.746502   1.425575  -2.103482   0.785906   1.702815  -0.052868   \n",
       "\n",
       "         299  doc_length  \n",
       "0   5.808738         187  \n",
       "1  11.397697         107  \n",
       "2  10.235375         167  \n",
       "3  51.669129         264  \n",
       "4   1.221824          11  \n",
       "\n",
       "[5 rows x 301 columns]"
      ]
     },
     "execution_count": 67,
     "metadata": {},
     "output_type": "execute_result"
    }
   ],
   "source": [
    "tfidf_ft_cbow.head()"
   ]
  },
  {
   "cell_type": "code",
   "execution_count": 69,
   "metadata": {
    "scrolled": true
   },
   "outputs": [],
   "source": [
    "tfidf_ft_cbow_avg = tfidf_ft_cbow.iloc[:,:300].div(tfidf_ft_cbow.doc_length, axis=0)"
   ]
  },
  {
   "cell_type": "code",
   "execution_count": 72,
   "metadata": {
    "scrolled": true
   },
   "outputs": [
    {
     "data": {
      "text/plain": [
       "(28569, 300)"
      ]
     },
     "execution_count": 72,
     "metadata": {},
     "output_type": "execute_result"
    }
   ],
   "source": [
    "tfidf_ft_cbow_avg.shape"
   ]
  },
  {
   "cell_type": "code",
   "execution_count": 76,
   "metadata": {},
   "outputs": [
    {
     "name": "stderr",
     "output_type": "stream",
     "text": [
      "c:\\users\\jinny\\miniconda3\\lib\\site-packages\\pandas\\core\\frame.py:4042: SettingWithCopyWarning: \n",
      "A value is trying to be set on a copy of a slice from a DataFrame\n",
      "\n",
      "See the caveats in the documentation: http://pandas.pydata.org/pandas-docs/stable/indexing.html#indexing-view-versus-copy\n",
      "  method=method)\n"
     ]
    },
    {
     "name": "stdout",
     "output_type": "stream",
     "text": [
      "(19141, 300)\n",
      "(19141,)\n",
      "(9428, 300)\n",
      "(9428,)\n"
     ]
    }
   ],
   "source": [
    "X_train, X_test, y_train, y_test = train_test_split(tfidf_ft_cbow_avg, df['L1'], test_size=0.33, shuffle=True)\n",
    "\n",
    "X_train.replace([np.nan, np.inf, -np.inf], 0, inplace=True)\n",
    "X_test.replace([np.nan, np.inf, -np.inf], 0, inplace=True)\n",
    "\n",
    "print(X_train.shape)\n",
    "print(y_train.shape)\n",
    "print(X_test.shape)\n",
    "print(y_test.shape)"
   ]
  },
  {
   "cell_type": "code",
   "execution_count": 77,
   "metadata": {},
   "outputs": [
    {
     "name": "stdout",
     "output_type": "stream",
     "text": [
      "Accuracy on training set: 0.999\n",
      "Accuracy on test set: 0.684\n"
     ]
    }
   ],
   "source": [
    "rf10 = RandomForestClassifier(n_estimators=100)\n",
    "rf10.fit(X_train, y_train)\n",
    "print(\"Accuracy on training set: {:.3f}\".format(rf10.score(X_train, y_train)))\n",
    "print(\"Accuracy on test set: {:.3f}\".format(rf10.score(X_test, y_test)))"
   ]
  },
  {
   "cell_type": "code",
   "execution_count": 78,
   "metadata": {},
   "outputs": [],
   "source": [
    "tfidf_w2v_cbow = pd.DataFrame(tfidf_w2v_cbow)"
   ]
  },
  {
   "cell_type": "code",
   "execution_count": 79,
   "metadata": {},
   "outputs": [],
   "source": [
    "tfidf_w2v_cbow['doc_length'] = tfidf.astype(bool).sum(axis=1)"
   ]
  },
  {
   "cell_type": "code",
   "execution_count": 80,
   "metadata": {
    "scrolled": true
   },
   "outputs": [
    {
     "data": {
      "text/html": [
       "<div>\n",
       "<style scoped>\n",
       "    .dataframe tbody tr th:only-of-type {\n",
       "        vertical-align: middle;\n",
       "    }\n",
       "\n",
       "    .dataframe tbody tr th {\n",
       "        vertical-align: top;\n",
       "    }\n",
       "\n",
       "    .dataframe thead th {\n",
       "        text-align: right;\n",
       "    }\n",
       "</style>\n",
       "<table border=\"1\" class=\"dataframe\">\n",
       "  <thead>\n",
       "    <tr style=\"text-align: right;\">\n",
       "      <th></th>\n",
       "      <th>0</th>\n",
       "      <th>1</th>\n",
       "      <th>2</th>\n",
       "      <th>3</th>\n",
       "      <th>4</th>\n",
       "      <th>5</th>\n",
       "      <th>6</th>\n",
       "      <th>7</th>\n",
       "      <th>8</th>\n",
       "      <th>9</th>\n",
       "      <th>...</th>\n",
       "      <th>291</th>\n",
       "      <th>292</th>\n",
       "      <th>293</th>\n",
       "      <th>294</th>\n",
       "      <th>295</th>\n",
       "      <th>296</th>\n",
       "      <th>297</th>\n",
       "      <th>298</th>\n",
       "      <th>299</th>\n",
       "      <th>doc_length</th>\n",
       "    </tr>\n",
       "  </thead>\n",
       "  <tbody>\n",
       "    <tr>\n",
       "      <th>0</th>\n",
       "      <td>-2.712694</td>\n",
       "      <td>-2.997150</td>\n",
       "      <td>-0.249982</td>\n",
       "      <td>-2.232253</td>\n",
       "      <td>2.971276</td>\n",
       "      <td>1.190884</td>\n",
       "      <td>-0.944313</td>\n",
       "      <td>2.621672</td>\n",
       "      <td>1.226795</td>\n",
       "      <td>1.030179</td>\n",
       "      <td>...</td>\n",
       "      <td>-1.288647</td>\n",
       "      <td>-1.731501</td>\n",
       "      <td>-1.897420</td>\n",
       "      <td>2.995213</td>\n",
       "      <td>-3.231183</td>\n",
       "      <td>2.720750</td>\n",
       "      <td>0.953915</td>\n",
       "      <td>0.657880</td>\n",
       "      <td>-2.042107</td>\n",
       "      <td>187</td>\n",
       "    </tr>\n",
       "    <tr>\n",
       "      <th>1</th>\n",
       "      <td>-2.393256</td>\n",
       "      <td>-1.623572</td>\n",
       "      <td>-2.017376</td>\n",
       "      <td>-1.911446</td>\n",
       "      <td>4.251178</td>\n",
       "      <td>0.799256</td>\n",
       "      <td>0.666524</td>\n",
       "      <td>3.280085</td>\n",
       "      <td>1.146256</td>\n",
       "      <td>1.251537</td>\n",
       "      <td>...</td>\n",
       "      <td>-0.276895</td>\n",
       "      <td>-0.666388</td>\n",
       "      <td>-1.126608</td>\n",
       "      <td>2.113791</td>\n",
       "      <td>-3.473832</td>\n",
       "      <td>1.518529</td>\n",
       "      <td>0.758649</td>\n",
       "      <td>-0.501081</td>\n",
       "      <td>-1.834546</td>\n",
       "      <td>107</td>\n",
       "    </tr>\n",
       "    <tr>\n",
       "      <th>2</th>\n",
       "      <td>-3.972993</td>\n",
       "      <td>-1.804513</td>\n",
       "      <td>-0.836238</td>\n",
       "      <td>-1.886061</td>\n",
       "      <td>2.800836</td>\n",
       "      <td>-0.093594</td>\n",
       "      <td>-2.576355</td>\n",
       "      <td>1.560733</td>\n",
       "      <td>-0.600077</td>\n",
       "      <td>-2.543403</td>\n",
       "      <td>...</td>\n",
       "      <td>-1.053787</td>\n",
       "      <td>0.003788</td>\n",
       "      <td>0.031028</td>\n",
       "      <td>1.425051</td>\n",
       "      <td>-4.326657</td>\n",
       "      <td>3.479216</td>\n",
       "      <td>-0.029903</td>\n",
       "      <td>0.794681</td>\n",
       "      <td>0.495996</td>\n",
       "      <td>167</td>\n",
       "    </tr>\n",
       "    <tr>\n",
       "      <th>3</th>\n",
       "      <td>-3.637395</td>\n",
       "      <td>-0.174189</td>\n",
       "      <td>-0.958779</td>\n",
       "      <td>-1.405303</td>\n",
       "      <td>2.341508</td>\n",
       "      <td>0.965515</td>\n",
       "      <td>-0.777458</td>\n",
       "      <td>0.900278</td>\n",
       "      <td>0.597169</td>\n",
       "      <td>-2.583456</td>\n",
       "      <td>...</td>\n",
       "      <td>-0.516564</td>\n",
       "      <td>-2.606686</td>\n",
       "      <td>-1.218247</td>\n",
       "      <td>0.352698</td>\n",
       "      <td>-3.161194</td>\n",
       "      <td>3.026933</td>\n",
       "      <td>1.384906</td>\n",
       "      <td>-1.281274</td>\n",
       "      <td>-0.704735</td>\n",
       "      <td>264</td>\n",
       "    </tr>\n",
       "    <tr>\n",
       "      <th>4</th>\n",
       "      <td>-1.778204</td>\n",
       "      <td>-2.209571</td>\n",
       "      <td>-1.155508</td>\n",
       "      <td>-0.382330</td>\n",
       "      <td>2.177818</td>\n",
       "      <td>-0.451603</td>\n",
       "      <td>-0.466486</td>\n",
       "      <td>1.105094</td>\n",
       "      <td>0.161920</td>\n",
       "      <td>-0.612459</td>\n",
       "      <td>...</td>\n",
       "      <td>0.202685</td>\n",
       "      <td>-0.049516</td>\n",
       "      <td>0.390669</td>\n",
       "      <td>0.055274</td>\n",
       "      <td>-0.123500</td>\n",
       "      <td>-0.019647</td>\n",
       "      <td>1.608512</td>\n",
       "      <td>1.103746</td>\n",
       "      <td>-0.645787</td>\n",
       "      <td>11</td>\n",
       "    </tr>\n",
       "  </tbody>\n",
       "</table>\n",
       "<p>5 rows × 301 columns</p>\n",
       "</div>"
      ],
      "text/plain": [
       "          0         1         2         3         4         5         6  \\\n",
       "0 -2.712694 -2.997150 -0.249982 -2.232253  2.971276  1.190884 -0.944313   \n",
       "1 -2.393256 -1.623572 -2.017376 -1.911446  4.251178  0.799256  0.666524   \n",
       "2 -3.972993 -1.804513 -0.836238 -1.886061  2.800836 -0.093594 -2.576355   \n",
       "3 -3.637395 -0.174189 -0.958779 -1.405303  2.341508  0.965515 -0.777458   \n",
       "4 -1.778204 -2.209571 -1.155508 -0.382330  2.177818 -0.451603 -0.466486   \n",
       "\n",
       "          7         8         9  ...       291       292       293       294  \\\n",
       "0  2.621672  1.226795  1.030179  ... -1.288647 -1.731501 -1.897420  2.995213   \n",
       "1  3.280085  1.146256  1.251537  ... -0.276895 -0.666388 -1.126608  2.113791   \n",
       "2  1.560733 -0.600077 -2.543403  ... -1.053787  0.003788  0.031028  1.425051   \n",
       "3  0.900278  0.597169 -2.583456  ... -0.516564 -2.606686 -1.218247  0.352698   \n",
       "4  1.105094  0.161920 -0.612459  ...  0.202685 -0.049516  0.390669  0.055274   \n",
       "\n",
       "        295       296       297       298       299  doc_length  \n",
       "0 -3.231183  2.720750  0.953915  0.657880 -2.042107         187  \n",
       "1 -3.473832  1.518529  0.758649 -0.501081 -1.834546         107  \n",
       "2 -4.326657  3.479216 -0.029903  0.794681  0.495996         167  \n",
       "3 -3.161194  3.026933  1.384906 -1.281274 -0.704735         264  \n",
       "4 -0.123500 -0.019647  1.608512  1.103746 -0.645787          11  \n",
       "\n",
       "[5 rows x 301 columns]"
      ]
     },
     "execution_count": 80,
     "metadata": {},
     "output_type": "execute_result"
    }
   ],
   "source": [
    "tfidf_w2v_cbow.head()"
   ]
  },
  {
   "cell_type": "code",
   "execution_count": 81,
   "metadata": {
    "scrolled": true
   },
   "outputs": [],
   "source": [
    "tfidf_w2v_cbow_avg = tfidf_w2v_cbow.iloc[:,:300].div(tfidf_w2v_cbow.doc_length, axis=0)"
   ]
  },
  {
   "cell_type": "code",
   "execution_count": 82,
   "metadata": {
    "scrolled": true
   },
   "outputs": [
    {
     "data": {
      "text/plain": [
       "(28569, 300)"
      ]
     },
     "execution_count": 82,
     "metadata": {},
     "output_type": "execute_result"
    }
   ],
   "source": [
    "tfidf_w2v_cbow_avg.shape"
   ]
  },
  {
   "cell_type": "code",
   "execution_count": 83,
   "metadata": {},
   "outputs": [
    {
     "name": "stderr",
     "output_type": "stream",
     "text": [
      "c:\\users\\jinny\\miniconda3\\lib\\site-packages\\pandas\\core\\frame.py:4042: SettingWithCopyWarning: \n",
      "A value is trying to be set on a copy of a slice from a DataFrame\n",
      "\n",
      "See the caveats in the documentation: http://pandas.pydata.org/pandas-docs/stable/indexing.html#indexing-view-versus-copy\n",
      "  method=method)\n"
     ]
    },
    {
     "name": "stdout",
     "output_type": "stream",
     "text": [
      "(19141, 300)\n",
      "(19141,)\n",
      "(9428, 300)\n",
      "(9428,)\n"
     ]
    }
   ],
   "source": [
    "X_train, X_test, y_train, y_test = train_test_split(tfidf_w2v_cbow_avg, df['L1'], test_size=0.33, shuffle=True)\n",
    "\n",
    "X_train.replace([np.nan, np.inf, -np.inf], 0, inplace=True)\n",
    "X_test.replace([np.nan, np.inf, -np.inf], 0, inplace=True)\n",
    "\n",
    "print(X_train.shape)\n",
    "print(y_train.shape)\n",
    "print(X_test.shape)\n",
    "print(y_test.shape)"
   ]
  },
  {
   "cell_type": "code",
   "execution_count": 84,
   "metadata": {},
   "outputs": [
    {
     "name": "stdout",
     "output_type": "stream",
     "text": [
      "Accuracy on training set: 0.999\n",
      "Accuracy on test set: 0.688\n"
     ]
    }
   ],
   "source": [
    "rf11 = RandomForestClassifier(n_estimators=100)\n",
    "rf11.fit(X_train, y_train)\n",
    "print(\"Accuracy on training set: {:.3f}\".format(rf11.score(X_train, y_train)))\n",
    "print(\"Accuracy on test set: {:.3f}\".format(rf11.score(X_test, y_test)))"
   ]
  },
  {
   "cell_type": "code",
   "execution_count": 88,
   "metadata": {
    "collapsed": true
   },
   "outputs": [
    {
     "ename": "MemoryError",
     "evalue": "",
     "output_type": "error",
     "traceback": [
      "\u001b[1;31m---------------------------------------------------------------------------\u001b[0m",
      "\u001b[1;31mMemoryError\u001b[0m                               Traceback (most recent call last)",
      "\u001b[1;32m<ipython-input-88-06544f56a74c>\u001b[0m in \u001b[0;36m<module>\u001b[1;34m\u001b[0m\n\u001b[1;32m----> 1\u001b[1;33m \u001b[0mgrand\u001b[0m \u001b[1;33m=\u001b[0m \u001b[0mpd\u001b[0m\u001b[1;33m.\u001b[0m\u001b[0mconcat\u001b[0m\u001b[1;33m(\u001b[0m\u001b[1;33m[\u001b[0m\u001b[0mtfidf\u001b[0m\u001b[1;33m,\u001b[0m \u001b[0md2v_dvow\u001b[0m\u001b[1;33m,\u001b[0m \u001b[0md2v_dm\u001b[0m\u001b[1;33m,\u001b[0m \u001b[0mw2v_cbow\u001b[0m\u001b[1;33m,\u001b[0m \u001b[0mw2v_sg\u001b[0m\u001b[1;33m,\u001b[0m \u001b[0mft_cbow\u001b[0m\u001b[1;33m,\u001b[0m \u001b[0mft_sg\u001b[0m\u001b[1;33m,\u001b[0m \u001b[0mbert\u001b[0m\u001b[1;33m,\u001b[0m \u001b[0mtfidf_w2v_cbow_avg\u001b[0m\u001b[1;33m,\u001b[0m \u001b[0mtfidf_ft_cbow_avg\u001b[0m\u001b[1;33m]\u001b[0m\u001b[1;33m)\u001b[0m\u001b[1;33m\u001b[0m\u001b[1;33m\u001b[0m\u001b[0m\n\u001b[0m",
      "\u001b[1;32mc:\\users\\jinny\\miniconda3\\lib\\site-packages\\pandas\\core\\reshape\\concat.py\u001b[0m in \u001b[0;36mconcat\u001b[1;34m(objs, axis, join, join_axes, ignore_index, keys, levels, names, verify_integrity, sort, copy)\u001b[0m\n\u001b[0;32m    227\u001b[0m                        \u001b[0mverify_integrity\u001b[0m\u001b[1;33m=\u001b[0m\u001b[0mverify_integrity\u001b[0m\u001b[1;33m,\u001b[0m\u001b[1;33m\u001b[0m\u001b[1;33m\u001b[0m\u001b[0m\n\u001b[0;32m    228\u001b[0m                        copy=copy, sort=sort)\n\u001b[1;32m--> 229\u001b[1;33m     \u001b[1;32mreturn\u001b[0m \u001b[0mop\u001b[0m\u001b[1;33m.\u001b[0m\u001b[0mget_result\u001b[0m\u001b[1;33m(\u001b[0m\u001b[1;33m)\u001b[0m\u001b[1;33m\u001b[0m\u001b[1;33m\u001b[0m\u001b[0m\n\u001b[0m\u001b[0;32m    230\u001b[0m \u001b[1;33m\u001b[0m\u001b[0m\n\u001b[0;32m    231\u001b[0m \u001b[1;33m\u001b[0m\u001b[0m\n",
      "\u001b[1;32mc:\\users\\jinny\\miniconda3\\lib\\site-packages\\pandas\\core\\reshape\\concat.py\u001b[0m in \u001b[0;36mget_result\u001b[1;34m(self)\u001b[0m\n\u001b[0;32m    424\u001b[0m             new_data = concatenate_block_managers(\n\u001b[0;32m    425\u001b[0m                 \u001b[0mmgrs_indexers\u001b[0m\u001b[1;33m,\u001b[0m \u001b[0mself\u001b[0m\u001b[1;33m.\u001b[0m\u001b[0mnew_axes\u001b[0m\u001b[1;33m,\u001b[0m \u001b[0mconcat_axis\u001b[0m\u001b[1;33m=\u001b[0m\u001b[0mself\u001b[0m\u001b[1;33m.\u001b[0m\u001b[0maxis\u001b[0m\u001b[1;33m,\u001b[0m\u001b[1;33m\u001b[0m\u001b[1;33m\u001b[0m\u001b[0m\n\u001b[1;32m--> 426\u001b[1;33m                 copy=self.copy)\n\u001b[0m\u001b[0;32m    427\u001b[0m             \u001b[1;32mif\u001b[0m \u001b[1;32mnot\u001b[0m \u001b[0mself\u001b[0m\u001b[1;33m.\u001b[0m\u001b[0mcopy\u001b[0m\u001b[1;33m:\u001b[0m\u001b[1;33m\u001b[0m\u001b[1;33m\u001b[0m\u001b[0m\n\u001b[0;32m    428\u001b[0m                 \u001b[0mnew_data\u001b[0m\u001b[1;33m.\u001b[0m\u001b[0m_consolidate_inplace\u001b[0m\u001b[1;33m(\u001b[0m\u001b[1;33m)\u001b[0m\u001b[1;33m\u001b[0m\u001b[1;33m\u001b[0m\u001b[0m\n",
      "\u001b[1;32mc:\\users\\jinny\\miniconda3\\lib\\site-packages\\pandas\\core\\internals\\managers.py\u001b[0m in \u001b[0;36mconcatenate_block_managers\u001b[1;34m(mgrs_indexers, axes, concat_axis, copy)\u001b[0m\n\u001b[0;32m   2059\u001b[0m         \u001b[1;32melse\u001b[0m\u001b[1;33m:\u001b[0m\u001b[1;33m\u001b[0m\u001b[1;33m\u001b[0m\u001b[0m\n\u001b[0;32m   2060\u001b[0m             b = make_block(\n\u001b[1;32m-> 2061\u001b[1;33m                 \u001b[0mconcatenate_join_units\u001b[0m\u001b[1;33m(\u001b[0m\u001b[0mjoin_units\u001b[0m\u001b[1;33m,\u001b[0m \u001b[0mconcat_axis\u001b[0m\u001b[1;33m,\u001b[0m \u001b[0mcopy\u001b[0m\u001b[1;33m=\u001b[0m\u001b[0mcopy\u001b[0m\u001b[1;33m)\u001b[0m\u001b[1;33m,\u001b[0m\u001b[1;33m\u001b[0m\u001b[1;33m\u001b[0m\u001b[0m\n\u001b[0m\u001b[0;32m   2062\u001b[0m                 placement=placement)\n\u001b[0;32m   2063\u001b[0m         \u001b[0mblocks\u001b[0m\u001b[1;33m.\u001b[0m\u001b[0mappend\u001b[0m\u001b[1;33m(\u001b[0m\u001b[0mb\u001b[0m\u001b[1;33m)\u001b[0m\u001b[1;33m\u001b[0m\u001b[1;33m\u001b[0m\u001b[0m\n",
      "\u001b[1;32mc:\\users\\jinny\\miniconda3\\lib\\site-packages\\pandas\\core\\internals\\concat.py\u001b[0m in \u001b[0;36mconcatenate_join_units\u001b[1;34m(join_units, concat_axis, copy)\u001b[0m\n\u001b[0;32m    240\u001b[0m     to_concat = [ju.get_reindexed_values(empty_dtype=empty_dtype,\n\u001b[0;32m    241\u001b[0m                                          upcasted_na=upcasted_na)\n\u001b[1;32m--> 242\u001b[1;33m                  for ju in join_units]\n\u001b[0m\u001b[0;32m    243\u001b[0m \u001b[1;33m\u001b[0m\u001b[0m\n\u001b[0;32m    244\u001b[0m     \u001b[1;32mif\u001b[0m \u001b[0mlen\u001b[0m\u001b[1;33m(\u001b[0m\u001b[0mto_concat\u001b[0m\u001b[1;33m)\u001b[0m \u001b[1;33m==\u001b[0m \u001b[1;36m1\u001b[0m\u001b[1;33m:\u001b[0m\u001b[1;33m\u001b[0m\u001b[1;33m\u001b[0m\u001b[0m\n",
      "\u001b[1;32mc:\\users\\jinny\\miniconda3\\lib\\site-packages\\pandas\\core\\internals\\concat.py\u001b[0m in \u001b[0;36m<listcomp>\u001b[1;34m(.0)\u001b[0m\n\u001b[0;32m    240\u001b[0m     to_concat = [ju.get_reindexed_values(empty_dtype=empty_dtype,\n\u001b[0;32m    241\u001b[0m                                          upcasted_na=upcasted_na)\n\u001b[1;32m--> 242\u001b[1;33m                  for ju in join_units]\n\u001b[0m\u001b[0;32m    243\u001b[0m \u001b[1;33m\u001b[0m\u001b[0m\n\u001b[0;32m    244\u001b[0m     \u001b[1;32mif\u001b[0m \u001b[0mlen\u001b[0m\u001b[1;33m(\u001b[0m\u001b[0mto_concat\u001b[0m\u001b[1;33m)\u001b[0m \u001b[1;33m==\u001b[0m \u001b[1;36m1\u001b[0m\u001b[1;33m:\u001b[0m\u001b[1;33m\u001b[0m\u001b[1;33m\u001b[0m\u001b[0m\n",
      "\u001b[1;32mc:\\users\\jinny\\miniconda3\\lib\\site-packages\\pandas\\core\\internals\\concat.py\u001b[0m in \u001b[0;36mget_reindexed_values\u001b[1;34m(self, empty_dtype, upcasted_na)\u001b[0m\n\u001b[0;32m    194\u001b[0m                     \u001b[1;32mpass\u001b[0m\u001b[1;33m\u001b[0m\u001b[1;33m\u001b[0m\u001b[0m\n\u001b[0;32m    195\u001b[0m                 \u001b[1;32melse\u001b[0m\u001b[1;33m:\u001b[0m\u001b[1;33m\u001b[0m\u001b[1;33m\u001b[0m\u001b[0m\n\u001b[1;32m--> 196\u001b[1;33m                     \u001b[0mmissing_arr\u001b[0m \u001b[1;33m=\u001b[0m \u001b[0mnp\u001b[0m\u001b[1;33m.\u001b[0m\u001b[0mempty\u001b[0m\u001b[1;33m(\u001b[0m\u001b[0mself\u001b[0m\u001b[1;33m.\u001b[0m\u001b[0mshape\u001b[0m\u001b[1;33m,\u001b[0m \u001b[0mdtype\u001b[0m\u001b[1;33m=\u001b[0m\u001b[0mempty_dtype\u001b[0m\u001b[1;33m)\u001b[0m\u001b[1;33m\u001b[0m\u001b[1;33m\u001b[0m\u001b[0m\n\u001b[0m\u001b[0;32m    197\u001b[0m                     \u001b[0mmissing_arr\u001b[0m\u001b[1;33m.\u001b[0m\u001b[0mfill\u001b[0m\u001b[1;33m(\u001b[0m\u001b[0mfill_value\u001b[0m\u001b[1;33m)\u001b[0m\u001b[1;33m\u001b[0m\u001b[1;33m\u001b[0m\u001b[0m\n\u001b[0;32m    198\u001b[0m                     \u001b[1;32mreturn\u001b[0m \u001b[0mmissing_arr\u001b[0m\u001b[1;33m\u001b[0m\u001b[1;33m\u001b[0m\u001b[0m\n",
      "\u001b[1;31mMemoryError\u001b[0m: "
     ]
    }
   ],
   "source": [
    "grand = pd.concat([tfidf, d2v_dvow, d2v_dm, w2v_cbow, w2v_sg, ft_cbow, ft_sg, bert, tfidf_w2v_cbow_avg, tfidf_ft_cbow_avg], axis=1)"
   ]
  },
  {
   "cell_type": "code",
   "execution_count": 104,
   "metadata": {},
   "outputs": [
    {
     "data": {
      "text/plain": [
       "(28569, 12966)"
      ]
     },
     "execution_count": 104,
     "metadata": {},
     "output_type": "execute_result"
    }
   ],
   "source": [
    "grand.shape"
   ]
  },
  {
   "cell_type": "code",
   "execution_count": 106,
   "metadata": {
    "scrolled": true
   },
   "outputs": [
    {
     "data": {
      "text/plain": [
       "12966"
      ]
     },
     "execution_count": 106,
     "metadata": {},
     "output_type": "execute_result"
    }
   ],
   "source": [
    "9798+(300*8)+768"
   ]
  },
  {
   "cell_type": "code",
   "execution_count": 107,
   "metadata": {},
   "outputs": [
    {
     "name": "stderr",
     "output_type": "stream",
     "text": [
      "c:\\users\\jinny\\miniconda3\\lib\\site-packages\\pandas\\core\\frame.py:4042: SettingWithCopyWarning: \n",
      "A value is trying to be set on a copy of a slice from a DataFrame\n",
      "\n",
      "See the caveats in the documentation: http://pandas.pydata.org/pandas-docs/stable/indexing.html#indexing-view-versus-copy\n",
      "  method=method)\n"
     ]
    },
    {
     "name": "stdout",
     "output_type": "stream",
     "text": [
      "(19141, 12966)\n",
      "(19141,)\n",
      "(9428, 12966)\n",
      "(9428,)\n"
     ]
    }
   ],
   "source": [
    "X_train, X_test, y_train, y_test = train_test_split(grand, df['L1'], test_size=0.33, shuffle=True)\n",
    "\n",
    "X_train.replace([np.nan, np.inf, -np.inf], 0, inplace=True)\n",
    "X_test.replace([np.nan, np.inf, -np.inf], 0, inplace=True)\n",
    "\n",
    "print(X_train.shape)\n",
    "print(y_train.shape)\n",
    "print(X_test.shape)\n",
    "print(y_test.shape)"
   ]
  },
  {
   "cell_type": "code",
   "execution_count": 108,
   "metadata": {},
   "outputs": [
    {
     "name": "stdout",
     "output_type": "stream",
     "text": [
      "Accuracy on training set: 1.000\n",
      "Accuracy on test set: 0.685\n"
     ]
    }
   ],
   "source": [
    "rf12 = RandomForestClassifier(n_estimators=100)\n",
    "rf12.fit(X_train, y_train)\n",
    "print(\"Accuracy on training set: {:.3f}\".format(rf12.score(X_train, y_train)))\n",
    "print(\"Accuracy on test set: {:.3f}\".format(rf12.score(X_test, y_test)))"
   ]
  },
  {
   "cell_type": "markdown",
   "metadata": {},
   "source": [
    "## skip-gram"
   ]
  },
  {
   "cell_type": "code",
   "execution_count": 109,
   "metadata": {},
   "outputs": [],
   "source": [
    "with open('tfidf_weighted_fasttext_sg.pickle', 'rb') as f:\n",
    "    tfidf_ft_sg = pickle.load(f)"
   ]
  },
  {
   "cell_type": "code",
   "execution_count": 110,
   "metadata": {},
   "outputs": [],
   "source": [
    "with open('tfidf_weighted_w2v_sg.pickle', 'rb') as f:\n",
    "    tfidf_w2v_sg = pickle.load(f)"
   ]
  },
  {
   "cell_type": "code",
   "execution_count": 111,
   "metadata": {},
   "outputs": [
    {
     "name": "stdout",
     "output_type": "stream",
     "text": [
      "(28569, 300)\n",
      "(28569, 300)\n"
     ]
    }
   ],
   "source": [
    "print(tfidf_ft_sg.shape)\n",
    "print(tfidf_w2v_sg.shape)"
   ]
  },
  {
   "cell_type": "code",
   "execution_count": 112,
   "metadata": {},
   "outputs": [],
   "source": [
    "tfidf_ft_sg = pd.DataFrame(tfidf_ft_sg)"
   ]
  },
  {
   "cell_type": "code",
   "execution_count": 115,
   "metadata": {},
   "outputs": [],
   "source": [
    "tfidf_ft_sg['doc_length'] = tfidf.astype(bool).sum(axis=1)"
   ]
  },
  {
   "cell_type": "code",
   "execution_count": 116,
   "metadata": {
    "scrolled": true
   },
   "outputs": [
    {
     "data": {
      "text/html": [
       "<div>\n",
       "<style scoped>\n",
       "    .dataframe tbody tr th:only-of-type {\n",
       "        vertical-align: middle;\n",
       "    }\n",
       "\n",
       "    .dataframe tbody tr th {\n",
       "        vertical-align: top;\n",
       "    }\n",
       "\n",
       "    .dataframe thead th {\n",
       "        text-align: right;\n",
       "    }\n",
       "</style>\n",
       "<table border=\"1\" class=\"dataframe\">\n",
       "  <thead>\n",
       "    <tr style=\"text-align: right;\">\n",
       "      <th></th>\n",
       "      <th>0</th>\n",
       "      <th>1</th>\n",
       "      <th>2</th>\n",
       "      <th>3</th>\n",
       "      <th>4</th>\n",
       "      <th>5</th>\n",
       "      <th>6</th>\n",
       "      <th>7</th>\n",
       "      <th>8</th>\n",
       "      <th>9</th>\n",
       "      <th>...</th>\n",
       "      <th>291</th>\n",
       "      <th>292</th>\n",
       "      <th>293</th>\n",
       "      <th>294</th>\n",
       "      <th>295</th>\n",
       "      <th>296</th>\n",
       "      <th>297</th>\n",
       "      <th>298</th>\n",
       "      <th>299</th>\n",
       "      <th>doc_length</th>\n",
       "    </tr>\n",
       "  </thead>\n",
       "  <tbody>\n",
       "    <tr>\n",
       "      <th>0</th>\n",
       "      <td>0.055281</td>\n",
       "      <td>0.129965</td>\n",
       "      <td>0.779223</td>\n",
       "      <td>-0.194621</td>\n",
       "      <td>0.310045</td>\n",
       "      <td>1.087189</td>\n",
       "      <td>0.129187</td>\n",
       "      <td>-0.658543</td>\n",
       "      <td>-0.800134</td>\n",
       "      <td>1.122928</td>\n",
       "      <td>...</td>\n",
       "      <td>0.010272</td>\n",
       "      <td>0.751759</td>\n",
       "      <td>1.288994</td>\n",
       "      <td>0.583079</td>\n",
       "      <td>0.513856</td>\n",
       "      <td>0.964674</td>\n",
       "      <td>1.055155</td>\n",
       "      <td>-0.477381</td>\n",
       "      <td>1.310911</td>\n",
       "      <td>187</td>\n",
       "    </tr>\n",
       "    <tr>\n",
       "      <th>1</th>\n",
       "      <td>-0.028055</td>\n",
       "      <td>0.027020</td>\n",
       "      <td>0.589116</td>\n",
       "      <td>0.083634</td>\n",
       "      <td>0.743619</td>\n",
       "      <td>0.632939</td>\n",
       "      <td>0.038787</td>\n",
       "      <td>-0.454959</td>\n",
       "      <td>-0.448542</td>\n",
       "      <td>0.940666</td>\n",
       "      <td>...</td>\n",
       "      <td>-0.591633</td>\n",
       "      <td>0.559054</td>\n",
       "      <td>0.879247</td>\n",
       "      <td>0.655048</td>\n",
       "      <td>0.965386</td>\n",
       "      <td>0.499161</td>\n",
       "      <td>1.007352</td>\n",
       "      <td>0.121360</td>\n",
       "      <td>1.062095</td>\n",
       "      <td>107</td>\n",
       "    </tr>\n",
       "    <tr>\n",
       "      <th>2</th>\n",
       "      <td>0.077384</td>\n",
       "      <td>0.372440</td>\n",
       "      <td>0.867954</td>\n",
       "      <td>-0.793481</td>\n",
       "      <td>0.079906</td>\n",
       "      <td>1.100300</td>\n",
       "      <td>0.561361</td>\n",
       "      <td>-0.536753</td>\n",
       "      <td>-0.971745</td>\n",
       "      <td>0.411930</td>\n",
       "      <td>...</td>\n",
       "      <td>0.693052</td>\n",
       "      <td>0.332443</td>\n",
       "      <td>1.190908</td>\n",
       "      <td>-0.027092</td>\n",
       "      <td>-0.597123</td>\n",
       "      <td>0.214816</td>\n",
       "      <td>1.221441</td>\n",
       "      <td>-1.092815</td>\n",
       "      <td>1.118877</td>\n",
       "      <td>167</td>\n",
       "    </tr>\n",
       "    <tr>\n",
       "      <th>3</th>\n",
       "      <td>0.578316</td>\n",
       "      <td>0.774726</td>\n",
       "      <td>0.745852</td>\n",
       "      <td>-0.403864</td>\n",
       "      <td>0.224637</td>\n",
       "      <td>1.346764</td>\n",
       "      <td>0.297837</td>\n",
       "      <td>-0.751705</td>\n",
       "      <td>-0.330156</td>\n",
       "      <td>0.140048</td>\n",
       "      <td>...</td>\n",
       "      <td>0.133265</td>\n",
       "      <td>0.843804</td>\n",
       "      <td>0.734855</td>\n",
       "      <td>0.714973</td>\n",
       "      <td>-0.510664</td>\n",
       "      <td>0.173528</td>\n",
       "      <td>1.169966</td>\n",
       "      <td>-0.614620</td>\n",
       "      <td>1.341421</td>\n",
       "      <td>264</td>\n",
       "    </tr>\n",
       "    <tr>\n",
       "      <th>4</th>\n",
       "      <td>0.111679</td>\n",
       "      <td>-0.160458</td>\n",
       "      <td>-0.067474</td>\n",
       "      <td>-0.759882</td>\n",
       "      <td>0.555862</td>\n",
       "      <td>0.561684</td>\n",
       "      <td>0.328941</td>\n",
       "      <td>-0.385340</td>\n",
       "      <td>-0.295898</td>\n",
       "      <td>0.273120</td>\n",
       "      <td>...</td>\n",
       "      <td>-0.035486</td>\n",
       "      <td>-0.126238</td>\n",
       "      <td>0.243960</td>\n",
       "      <td>0.059136</td>\n",
       "      <td>-0.057643</td>\n",
       "      <td>-0.080028</td>\n",
       "      <td>0.743419</td>\n",
       "      <td>-0.203569</td>\n",
       "      <td>0.367991</td>\n",
       "      <td>11</td>\n",
       "    </tr>\n",
       "  </tbody>\n",
       "</table>\n",
       "<p>5 rows × 301 columns</p>\n",
       "</div>"
      ],
      "text/plain": [
       "          0         1         2         3         4         5         6  \\\n",
       "0  0.055281  0.129965  0.779223 -0.194621  0.310045  1.087189  0.129187   \n",
       "1 -0.028055  0.027020  0.589116  0.083634  0.743619  0.632939  0.038787   \n",
       "2  0.077384  0.372440  0.867954 -0.793481  0.079906  1.100300  0.561361   \n",
       "3  0.578316  0.774726  0.745852 -0.403864  0.224637  1.346764  0.297837   \n",
       "4  0.111679 -0.160458 -0.067474 -0.759882  0.555862  0.561684  0.328941   \n",
       "\n",
       "          7         8         9  ...       291       292       293       294  \\\n",
       "0 -0.658543 -0.800134  1.122928  ...  0.010272  0.751759  1.288994  0.583079   \n",
       "1 -0.454959 -0.448542  0.940666  ... -0.591633  0.559054  0.879247  0.655048   \n",
       "2 -0.536753 -0.971745  0.411930  ...  0.693052  0.332443  1.190908 -0.027092   \n",
       "3 -0.751705 -0.330156  0.140048  ...  0.133265  0.843804  0.734855  0.714973   \n",
       "4 -0.385340 -0.295898  0.273120  ... -0.035486 -0.126238  0.243960  0.059136   \n",
       "\n",
       "        295       296       297       298       299  doc_length  \n",
       "0  0.513856  0.964674  1.055155 -0.477381  1.310911         187  \n",
       "1  0.965386  0.499161  1.007352  0.121360  1.062095         107  \n",
       "2 -0.597123  0.214816  1.221441 -1.092815  1.118877         167  \n",
       "3 -0.510664  0.173528  1.169966 -0.614620  1.341421         264  \n",
       "4 -0.057643 -0.080028  0.743419 -0.203569  0.367991          11  \n",
       "\n",
       "[5 rows x 301 columns]"
      ]
     },
     "execution_count": 116,
     "metadata": {},
     "output_type": "execute_result"
    }
   ],
   "source": [
    "tfidf_ft_sg.head()"
   ]
  },
  {
   "cell_type": "code",
   "execution_count": 117,
   "metadata": {
    "scrolled": true
   },
   "outputs": [],
   "source": [
    "tfidf_ft_sg_avg = tfidf_ft_sg.iloc[:,:300].div(tfidf_ft_sg.doc_length, axis=0)"
   ]
  },
  {
   "cell_type": "code",
   "execution_count": 118,
   "metadata": {
    "scrolled": true
   },
   "outputs": [
    {
     "data": {
      "text/plain": [
       "(28569, 300)"
      ]
     },
     "execution_count": 118,
     "metadata": {},
     "output_type": "execute_result"
    }
   ],
   "source": [
    "tfidf_ft_sg_avg.shape"
   ]
  },
  {
   "cell_type": "code",
   "execution_count": 119,
   "metadata": {},
   "outputs": [
    {
     "name": "stderr",
     "output_type": "stream",
     "text": [
      "c:\\users\\jinny\\miniconda3\\lib\\site-packages\\pandas\\core\\frame.py:4042: SettingWithCopyWarning: \n",
      "A value is trying to be set on a copy of a slice from a DataFrame\n",
      "\n",
      "See the caveats in the documentation: http://pandas.pydata.org/pandas-docs/stable/indexing.html#indexing-view-versus-copy\n",
      "  method=method)\n"
     ]
    },
    {
     "name": "stdout",
     "output_type": "stream",
     "text": [
      "(19141, 300)\n",
      "(19141,)\n",
      "(9428, 300)\n",
      "(9428,)\n"
     ]
    }
   ],
   "source": [
    "X_train, X_test, y_train, y_test = train_test_split(tfidf_ft_sg_avg, df['L1'], test_size=0.33, shuffle=True)\n",
    "\n",
    "X_train.replace([np.nan, np.inf, -np.inf], 0, inplace=True)\n",
    "X_test.replace([np.nan, np.inf, -np.inf], 0, inplace=True)\n",
    "\n",
    "print(X_train.shape)\n",
    "print(y_train.shape)\n",
    "print(X_test.shape)\n",
    "print(y_test.shape)"
   ]
  },
  {
   "cell_type": "code",
   "execution_count": 120,
   "metadata": {},
   "outputs": [
    {
     "name": "stdout",
     "output_type": "stream",
     "text": [
      "Accuracy on training set: 0.999\n",
      "Accuracy on test set: 0.684\n"
     ]
    }
   ],
   "source": [
    "rf13 = RandomForestClassifier(n_estimators=100)\n",
    "rf13.fit(X_train, y_train)\n",
    "print(\"Accuracy on training set: {:.3f}\".format(rf13.score(X_train, y_train)))\n",
    "print(\"Accuracy on test set: {:.3f}\".format(rf13.score(X_test, y_test)))"
   ]
  },
  {
   "cell_type": "code",
   "execution_count": 121,
   "metadata": {},
   "outputs": [],
   "source": [
    "tfidf_w2v_sg = pd.DataFrame(tfidf_w2v_sg)"
   ]
  },
  {
   "cell_type": "code",
   "execution_count": 122,
   "metadata": {},
   "outputs": [],
   "source": [
    "tfidf_w2v_sg['doc_length'] = tfidf.astype(bool).sum(axis=1)"
   ]
  },
  {
   "cell_type": "code",
   "execution_count": 123,
   "metadata": {
    "scrolled": true
   },
   "outputs": [
    {
     "data": {
      "text/html": [
       "<div>\n",
       "<style scoped>\n",
       "    .dataframe tbody tr th:only-of-type {\n",
       "        vertical-align: middle;\n",
       "    }\n",
       "\n",
       "    .dataframe tbody tr th {\n",
       "        vertical-align: top;\n",
       "    }\n",
       "\n",
       "    .dataframe thead th {\n",
       "        text-align: right;\n",
       "    }\n",
       "</style>\n",
       "<table border=\"1\" class=\"dataframe\">\n",
       "  <thead>\n",
       "    <tr style=\"text-align: right;\">\n",
       "      <th></th>\n",
       "      <th>0</th>\n",
       "      <th>1</th>\n",
       "      <th>2</th>\n",
       "      <th>3</th>\n",
       "      <th>4</th>\n",
       "      <th>5</th>\n",
       "      <th>6</th>\n",
       "      <th>7</th>\n",
       "      <th>8</th>\n",
       "      <th>9</th>\n",
       "      <th>...</th>\n",
       "      <th>291</th>\n",
       "      <th>292</th>\n",
       "      <th>293</th>\n",
       "      <th>294</th>\n",
       "      <th>295</th>\n",
       "      <th>296</th>\n",
       "      <th>297</th>\n",
       "      <th>298</th>\n",
       "      <th>299</th>\n",
       "      <th>doc_length</th>\n",
       "    </tr>\n",
       "  </thead>\n",
       "  <tbody>\n",
       "    <tr>\n",
       "      <th>0</th>\n",
       "      <td>-0.099167</td>\n",
       "      <td>-1.419174</td>\n",
       "      <td>-0.297549</td>\n",
       "      <td>-0.201690</td>\n",
       "      <td>-0.964325</td>\n",
       "      <td>1.842195</td>\n",
       "      <td>-0.843325</td>\n",
       "      <td>-1.526516</td>\n",
       "      <td>0.355111</td>\n",
       "      <td>-0.772252</td>\n",
       "      <td>...</td>\n",
       "      <td>-1.811234</td>\n",
       "      <td>0.072788</td>\n",
       "      <td>0.327495</td>\n",
       "      <td>0.046594</td>\n",
       "      <td>-1.218108</td>\n",
       "      <td>0.968988</td>\n",
       "      <td>1.247389</td>\n",
       "      <td>1.805132</td>\n",
       "      <td>-2.234951</td>\n",
       "      <td>187</td>\n",
       "    </tr>\n",
       "    <tr>\n",
       "      <th>1</th>\n",
       "      <td>0.556868</td>\n",
       "      <td>-1.494847</td>\n",
       "      <td>-0.375744</td>\n",
       "      <td>-0.680782</td>\n",
       "      <td>0.052378</td>\n",
       "      <td>1.904577</td>\n",
       "      <td>-0.325941</td>\n",
       "      <td>-1.277456</td>\n",
       "      <td>0.312040</td>\n",
       "      <td>0.221520</td>\n",
       "      <td>...</td>\n",
       "      <td>-1.815255</td>\n",
       "      <td>-0.240381</td>\n",
       "      <td>-0.062291</td>\n",
       "      <td>-0.306186</td>\n",
       "      <td>-1.203015</td>\n",
       "      <td>1.087080</td>\n",
       "      <td>1.159048</td>\n",
       "      <td>1.582046</td>\n",
       "      <td>-1.835209</td>\n",
       "      <td>107</td>\n",
       "    </tr>\n",
       "    <tr>\n",
       "      <th>2</th>\n",
       "      <td>-0.105310</td>\n",
       "      <td>-2.040135</td>\n",
       "      <td>0.615345</td>\n",
       "      <td>-0.586227</td>\n",
       "      <td>-1.447999</td>\n",
       "      <td>1.809291</td>\n",
       "      <td>0.059345</td>\n",
       "      <td>-0.031875</td>\n",
       "      <td>-0.034386</td>\n",
       "      <td>-0.501470</td>\n",
       "      <td>...</td>\n",
       "      <td>-1.335117</td>\n",
       "      <td>0.283257</td>\n",
       "      <td>0.329117</td>\n",
       "      <td>-0.220800</td>\n",
       "      <td>-0.994899</td>\n",
       "      <td>0.335840</td>\n",
       "      <td>1.707354</td>\n",
       "      <td>0.968053</td>\n",
       "      <td>-2.307026</td>\n",
       "      <td>167</td>\n",
       "    </tr>\n",
       "    <tr>\n",
       "      <th>3</th>\n",
       "      <td>0.381661</td>\n",
       "      <td>-2.359810</td>\n",
       "      <td>0.501509</td>\n",
       "      <td>-0.865403</td>\n",
       "      <td>-0.662938</td>\n",
       "      <td>2.013371</td>\n",
       "      <td>-0.397091</td>\n",
       "      <td>-0.836548</td>\n",
       "      <td>0.252063</td>\n",
       "      <td>0.349931</td>\n",
       "      <td>...</td>\n",
       "      <td>-1.775375</td>\n",
       "      <td>0.396823</td>\n",
       "      <td>-0.137661</td>\n",
       "      <td>-0.241579</td>\n",
       "      <td>-0.947303</td>\n",
       "      <td>0.696959</td>\n",
       "      <td>1.590799</td>\n",
       "      <td>1.333666</td>\n",
       "      <td>-2.760601</td>\n",
       "      <td>264</td>\n",
       "    </tr>\n",
       "    <tr>\n",
       "      <th>4</th>\n",
       "      <td>-0.191938</td>\n",
       "      <td>-0.999453</td>\n",
       "      <td>-0.291717</td>\n",
       "      <td>-0.044650</td>\n",
       "      <td>-0.485681</td>\n",
       "      <td>0.740915</td>\n",
       "      <td>-0.125883</td>\n",
       "      <td>-0.177642</td>\n",
       "      <td>0.082964</td>\n",
       "      <td>-0.417643</td>\n",
       "      <td>...</td>\n",
       "      <td>-0.349799</td>\n",
       "      <td>-0.214773</td>\n",
       "      <td>0.396289</td>\n",
       "      <td>0.481057</td>\n",
       "      <td>-0.356253</td>\n",
       "      <td>0.181578</td>\n",
       "      <td>0.553737</td>\n",
       "      <td>0.251194</td>\n",
       "      <td>-1.004305</td>\n",
       "      <td>11</td>\n",
       "    </tr>\n",
       "  </tbody>\n",
       "</table>\n",
       "<p>5 rows × 301 columns</p>\n",
       "</div>"
      ],
      "text/plain": [
       "          0         1         2         3         4         5         6  \\\n",
       "0 -0.099167 -1.419174 -0.297549 -0.201690 -0.964325  1.842195 -0.843325   \n",
       "1  0.556868 -1.494847 -0.375744 -0.680782  0.052378  1.904577 -0.325941   \n",
       "2 -0.105310 -2.040135  0.615345 -0.586227 -1.447999  1.809291  0.059345   \n",
       "3  0.381661 -2.359810  0.501509 -0.865403 -0.662938  2.013371 -0.397091   \n",
       "4 -0.191938 -0.999453 -0.291717 -0.044650 -0.485681  0.740915 -0.125883   \n",
       "\n",
       "          7         8         9  ...       291       292       293       294  \\\n",
       "0 -1.526516  0.355111 -0.772252  ... -1.811234  0.072788  0.327495  0.046594   \n",
       "1 -1.277456  0.312040  0.221520  ... -1.815255 -0.240381 -0.062291 -0.306186   \n",
       "2 -0.031875 -0.034386 -0.501470  ... -1.335117  0.283257  0.329117 -0.220800   \n",
       "3 -0.836548  0.252063  0.349931  ... -1.775375  0.396823 -0.137661 -0.241579   \n",
       "4 -0.177642  0.082964 -0.417643  ... -0.349799 -0.214773  0.396289  0.481057   \n",
       "\n",
       "        295       296       297       298       299  doc_length  \n",
       "0 -1.218108  0.968988  1.247389  1.805132 -2.234951         187  \n",
       "1 -1.203015  1.087080  1.159048  1.582046 -1.835209         107  \n",
       "2 -0.994899  0.335840  1.707354  0.968053 -2.307026         167  \n",
       "3 -0.947303  0.696959  1.590799  1.333666 -2.760601         264  \n",
       "4 -0.356253  0.181578  0.553737  0.251194 -1.004305          11  \n",
       "\n",
       "[5 rows x 301 columns]"
      ]
     },
     "execution_count": 123,
     "metadata": {},
     "output_type": "execute_result"
    }
   ],
   "source": [
    "tfidf_w2v_sg.head()"
   ]
  },
  {
   "cell_type": "code",
   "execution_count": 124,
   "metadata": {
    "scrolled": true
   },
   "outputs": [],
   "source": [
    "tfidf_w2v_sg_avg = tfidf_w2v_sg.iloc[:,:300].div(tfidf_w2v_sg.doc_length, axis=0)"
   ]
  },
  {
   "cell_type": "code",
   "execution_count": 125,
   "metadata": {
    "scrolled": true
   },
   "outputs": [
    {
     "data": {
      "text/plain": [
       "(28569, 300)"
      ]
     },
     "execution_count": 125,
     "metadata": {},
     "output_type": "execute_result"
    }
   ],
   "source": [
    "tfidf_w2v_sg_avg.shape"
   ]
  },
  {
   "cell_type": "code",
   "execution_count": 126,
   "metadata": {},
   "outputs": [
    {
     "name": "stderr",
     "output_type": "stream",
     "text": [
      "c:\\users\\jinny\\miniconda3\\lib\\site-packages\\pandas\\core\\frame.py:4042: SettingWithCopyWarning: \n",
      "A value is trying to be set on a copy of a slice from a DataFrame\n",
      "\n",
      "See the caveats in the documentation: http://pandas.pydata.org/pandas-docs/stable/indexing.html#indexing-view-versus-copy\n",
      "  method=method)\n"
     ]
    },
    {
     "name": "stdout",
     "output_type": "stream",
     "text": [
      "(19141, 300)\n",
      "(19141,)\n",
      "(9428, 300)\n",
      "(9428,)\n"
     ]
    }
   ],
   "source": [
    "X_train, X_test, y_train, y_test = train_test_split(tfidf_w2v_sg_avg, df['L1'], test_size=0.33, shuffle=True)\n",
    "\n",
    "X_train.replace([np.nan, np.inf, -np.inf], 0, inplace=True)\n",
    "X_test.replace([np.nan, np.inf, -np.inf], 0, inplace=True)\n",
    "\n",
    "print(X_train.shape)\n",
    "print(y_train.shape)\n",
    "print(X_test.shape)\n",
    "print(y_test.shape)"
   ]
  },
  {
   "cell_type": "code",
   "execution_count": 127,
   "metadata": {},
   "outputs": [
    {
     "name": "stdout",
     "output_type": "stream",
     "text": [
      "Accuracy on training set: 0.999\n",
      "Accuracy on test set: 0.674\n"
     ]
    }
   ],
   "source": [
    "rf14 = RandomForestClassifier(n_estimators=100)\n",
    "rf14.fit(X_train, y_train)\n",
    "print(\"Accuracy on training set: {:.3f}\".format(rf14.score(X_train, y_train)))\n",
    "print(\"Accuracy on test set: {:.3f}\".format(rf14.score(X_test, y_test)))"
   ]
  },
  {
   "cell_type": "code",
   "execution_count": null,
   "metadata": {},
   "outputs": [],
   "source": []
  }
 ],
 "metadata": {
  "kernelspec": {
   "display_name": "Python 3",
   "language": "python",
   "name": "python3"
  },
  "language_info": {
   "codemirror_mode": {
    "name": "ipython",
    "version": 3
   },
   "file_extension": ".py",
   "mimetype": "text/x-python",
   "name": "python",
   "nbconvert_exporter": "python",
   "pygments_lexer": "ipython3",
   "version": "3.7.3"
  }
 },
 "nbformat": 4,
 "nbformat_minor": 2
}
