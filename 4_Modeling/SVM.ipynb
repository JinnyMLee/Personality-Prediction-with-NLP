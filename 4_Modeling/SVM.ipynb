{
 "cells": [
  {
   "cell_type": "code",
   "execution_count": 1,
   "metadata": {},
   "outputs": [],
   "source": [
    "import numpy as np # linear algebra\n",
    "import pandas as pd # data processing, CSV file I/O (e.g. pd.read_csv)\n",
    "import seaborn as sns\n",
    "import matplotlib.pyplot as plt\n",
    "from matplotlib.colors import ListedColormap\n",
    "import pickle"
   ]
  },
  {
   "cell_type": "code",
   "execution_count": 2,
   "metadata": {},
   "outputs": [],
   "source": [
    "with open('zebal_version2.pickle', 'rb') as f:\n",
    "    df = pickle.load(f)"
   ]
  },
  {
   "cell_type": "code",
   "execution_count": 3,
   "metadata": {},
   "outputs": [],
   "source": [
    "df = df[df['board']!='가입 인사 (등업 필수)']\n",
    "df = df.reset_index()"
   ]
  },
  {
   "cell_type": "code",
   "execution_count": 4,
   "metadata": {
    "scrolled": true
   },
   "outputs": [
    {
     "data": {
      "text/plain": [
       "(28569, 13)"
      ]
     },
     "execution_count": 4,
     "metadata": {},
     "output_type": "execute_result"
    }
   ],
   "source": [
    "df.shape"
   ]
  },
  {
   "cell_type": "code",
   "execution_count": 5,
   "metadata": {},
   "outputs": [],
   "source": [
    "df['L1'] = df['type'].apply(lambda x: x[0].upper())\n",
    "df['L2'] = df['type'].apply(lambda x: x[1].upper())\n",
    "df['L3'] = df['type'].apply(lambda x: x[2].upper())\n",
    "df['L4'] = df['type'].apply(lambda x: x[3].upper())"
   ]
  },
  {
   "cell_type": "code",
   "execution_count": 6,
   "metadata": {},
   "outputs": [],
   "source": [
    "with open('tfidf.pickle', 'rb') as f:\n",
    "    tfidf = pickle.load(f)\n",
    "with open('tfidf_ft_cbow_avg.pickle', 'rb') as f:\n",
    "    tfidf_ft_cbow = pickle.load(f)\n",
    "with open('tfidf_ft_sg_avg.pickle', 'rb') as f:\n",
    "    tfidf_ft_sg = pickle.load(f)\n",
    "with open('tfidf_w2v_cbow_avg.pickle', 'rb') as f:\n",
    "    tfidf_w2v_cbow = pickle.load(f)\n",
    "with open('tfidf_w2v_sg_avg.pickle', 'rb') as f:\n",
    "    tfidf_w2v_sg = pickle.load(f)"
   ]
  },
  {
   "cell_type": "code",
   "execution_count": 7,
   "metadata": {},
   "outputs": [],
   "source": [
    "with open('all_embbeding_df_v2.pickle', 'rb') as f:\n",
    "    em = pickle.load(f)"
   ]
  },
  {
   "cell_type": "code",
   "execution_count": 8,
   "metadata": {},
   "outputs": [],
   "source": [
    "def make_matrix(ndf):\n",
    "    target=[]\n",
    "    for i in ndf:\n",
    "        target.append(i)\n",
    "    return pd.DataFrame(target)"
   ]
  },
  {
   "cell_type": "code",
   "execution_count": 9,
   "metadata": {},
   "outputs": [],
   "source": [
    "d2v_dvow = make_matrix(em['doc2vec_PV_DBOW'])\n",
    "d2v_dm   = make_matrix(em['doc2vec_PV_DMO'])\n",
    "w2v_cbow = make_matrix(em['w2v_cbow_avg'])\n",
    "w2v_sg   = make_matrix(em['w2v_skipgram_avg'])\n",
    "ft_cbow  = make_matrix(em['ft_cbow_avg'])\n",
    "ft_sg    = make_matrix(em['ft_skip_gram_avg'])\n",
    "bert     = make_matrix(em['bert'])"
   ]
  },
  {
   "cell_type": "code",
   "execution_count": 10,
   "metadata": {},
   "outputs": [
    {
     "name": "stdout",
     "output_type": "stream",
     "text": [
      "(28569, 9798)\n",
      "(28569, 300)\n",
      "(28569, 300)\n",
      "(28569, 300)\n",
      "(28569, 300)\n",
      "(28569, 300)\n",
      "(28569, 300)\n",
      "(28569, 300)\n",
      "(28569, 300)\n",
      "(28569, 300)\n",
      "(28569, 300)\n",
      "(28569, 768)\n"
     ]
    }
   ],
   "source": [
    "print(tfidf.shape)\n",
    "print(tfidf_w2v_cbow.shape)\n",
    "print(tfidf_w2v_sg.shape)\n",
    "print(tfidf_ft_cbow.shape)\n",
    "print(tfidf_ft_sg.shape)\n",
    "print(d2v_dvow.shape)\n",
    "print(d2v_dm.shape)\n",
    "print(w2v_cbow.shape)\n",
    "print(w2v_sg.shape)\n",
    "print(ft_cbow.shape)\n",
    "print(ft_sg.shape)\n",
    "print(bert.shape)"
   ]
  },
  {
   "cell_type": "code",
   "execution_count": 11,
   "metadata": {},
   "outputs": [
    {
     "name": "stdout",
     "output_type": "stream",
     "text": [
      "0\n",
      "21\n",
      "21\n",
      "8\n",
      "21\n",
      "0\n",
      "0\n",
      "8\n",
      "8\n",
      "0\n",
      "0\n",
      "0\n"
     ]
    }
   ],
   "source": [
    "print(tfidf.isnull().sum().max())\n",
    "print(tfidf_w2v_cbow.isnull().sum().max())\n",
    "print(tfidf_w2v_sg.isnull().sum().max())\n",
    "print(tfidf_ft_cbow.isnull().sum().max())\n",
    "print(tfidf_ft_sg.isnull().sum().max())\n",
    "print(d2v_dvow.isnull().sum().max())\n",
    "print(d2v_dm.isnull().sum().max())\n",
    "print(w2v_cbow.isnull().sum().max())\n",
    "print(w2v_sg.isnull().sum().max())\n",
    "print(ft_cbow.isnull().sum().max())\n",
    "print(ft_sg.isnull().sum().max())\n",
    "print(bert.isnull().sum().max())"
   ]
  },
  {
   "cell_type": "code",
   "execution_count": 15,
   "metadata": {},
   "outputs": [
    {
     "name": "stdout",
     "output_type": "stream",
     "text": [
      "shape of Y :(28569,)\n",
      "shape of X :(28569, 300)\n"
     ]
    }
   ],
   "source": [
    "from sklearn.svm import SVC\n",
    "from sklearn.model_selection import train_test_split\n",
    "\n",
    "y_t = df['L1']\n",
    "#X_t = tfidf\n",
    "X_t = tfidf_w2v_cbow\n",
    "# X_t = tfidf_w2v_sg\n",
    "# X_t = tfidf_ft_cbow\n",
    "# X_t = tfidf_ft_sg\n",
    "# X_t = d2v_dvow\n",
    "# X_t = d2v_dm\n",
    "# X_t = w2v_cbow\n",
    "# X_t = w2v_sg\n",
    "# X_t = ft_cbow\n",
    "# X_t = ft_sg\n",
    "# X_t = bert\n",
    "\n",
    "X_t.replace([np.nan, np.inf, -np.inf], 0, inplace=True)\n",
    "\n",
    "print(\"shape of Y :\"+str(y_t.shape))\n",
    "print(\"shape of X :\"+str(X_t.shape))"
   ]
  },
  {
   "cell_type": "code",
   "execution_count": 16,
   "metadata": {},
   "outputs": [
    {
     "name": "stdout",
     "output_type": "stream",
     "text": [
      "shape of X Train :(22855, 300)\n",
      "shape of X Test :(5714, 300)\n",
      "shape of Y Train :(22855,)\n",
      "shape of Y Test :(5714,)\n"
     ]
    }
   ],
   "source": [
    "X_train,X_test,Y_train,Y_test = train_test_split(X_t, y_t, test_size=.20, random_state=42)\n",
    "print(\"shape of X Train :\"+str(X_train.shape))\n",
    "print(\"shape of X Test :\"+str(X_test.shape))\n",
    "print(\"shape of Y Train :\"+str(Y_train.shape))\n",
    "print(\"shape of Y Test :\"+str(Y_test.shape))"
   ]
  },
  {
   "cell_type": "code",
   "execution_count": 18,
   "metadata": {},
   "outputs": [
    {
     "name": "stderr",
     "output_type": "stream",
     "text": [
      "c:\\users\\jinny\\miniconda3\\lib\\site-packages\\sklearn\\svm\\base.py:193: FutureWarning: The default value of gamma will change from 'auto' to 'scale' in version 0.22 to account better for unscaled features. Set gamma explicitly to 'auto' or 'scale' to avoid this warning.\n",
      "  \"avoid this warning.\", FutureWarning)\n"
     ]
    },
    {
     "name": "stdout",
     "output_type": "stream",
     "text": [
      "SVM for Non Linear \n",
      " C:1 Training Score : 0.670838 Test Score : 0.680434\n",
      "\n"
     ]
    },
    {
     "name": "stderr",
     "output_type": "stream",
     "text": [
      "c:\\users\\jinny\\miniconda3\\lib\\site-packages\\sklearn\\svm\\base.py:193: FutureWarning: The default value of gamma will change from 'auto' to 'scale' in version 0.22 to account better for unscaled features. Set gamma explicitly to 'auto' or 'scale' to avoid this warning.\n",
      "  \"avoid this warning.\", FutureWarning)\n"
     ]
    },
    {
     "name": "stdout",
     "output_type": "stream",
     "text": [
      "SVM for Non Linear \n",
      " C:5 Training Score : 0.671100 Test Score : 0.680434\n",
      "\n"
     ]
    },
    {
     "name": "stderr",
     "output_type": "stream",
     "text": [
      "c:\\users\\jinny\\miniconda3\\lib\\site-packages\\sklearn\\svm\\base.py:193: FutureWarning: The default value of gamma will change from 'auto' to 'scale' in version 0.22 to account better for unscaled features. Set gamma explicitly to 'auto' or 'scale' to avoid this warning.\n",
      "  \"avoid this warning.\", FutureWarning)\n"
     ]
    },
    {
     "name": "stdout",
     "output_type": "stream",
     "text": [
      "SVM for Non Linear \n",
      " C:10 Training Score : 0.671144 Test Score : 0.680434\n",
      "\n"
     ]
    },
    {
     "name": "stderr",
     "output_type": "stream",
     "text": [
      "c:\\users\\jinny\\miniconda3\\lib\\site-packages\\sklearn\\svm\\base.py:193: FutureWarning: The default value of gamma will change from 'auto' to 'scale' in version 0.22 to account better for unscaled features. Set gamma explicitly to 'auto' or 'scale' to avoid this warning.\n",
      "  \"avoid this warning.\", FutureWarning)\n"
     ]
    },
    {
     "name": "stdout",
     "output_type": "stream",
     "text": [
      "SVM for Non Linear \n",
      " C:25 Training Score : 0.671538 Test Score : 0.680784\n",
      "\n"
     ]
    },
    {
     "name": "stderr",
     "output_type": "stream",
     "text": [
      "c:\\users\\jinny\\miniconda3\\lib\\site-packages\\sklearn\\svm\\base.py:193: FutureWarning: The default value of gamma will change from 'auto' to 'scale' in version 0.22 to account better for unscaled features. Set gamma explicitly to 'auto' or 'scale' to avoid this warning.\n",
      "  \"avoid this warning.\", FutureWarning)\n"
     ]
    },
    {
     "name": "stdout",
     "output_type": "stream",
     "text": [
      "SVM for Non Linear \n",
      " C:50 Training Score : 0.672282 Test Score : 0.680609\n",
      "\n"
     ]
    },
    {
     "name": "stderr",
     "output_type": "stream",
     "text": [
      "c:\\users\\jinny\\miniconda3\\lib\\site-packages\\sklearn\\svm\\base.py:193: FutureWarning: The default value of gamma will change from 'auto' to 'scale' in version 0.22 to account better for unscaled features. Set gamma explicitly to 'auto' or 'scale' to avoid this warning.\n",
      "  \"avoid this warning.\", FutureWarning)\n"
     ]
    },
    {
     "name": "stdout",
     "output_type": "stream",
     "text": [
      "SVM for Non Linear \n",
      " C:100 Training Score : 0.673244 Test Score : 0.680784\n",
      "\n"
     ]
    }
   ],
   "source": [
    "for this_C in [1,5,10,25,50,100]:\n",
    "    clf3 = SVC(kernel='rbf',C=this_C).fit(X_train,Y_train)\n",
    "    clf3train = clf3.score(X_train,Y_train)\n",
    "    clf3test  = clf3.score(X_test,Y_test)\n",
    "    print(\"SVM for Non Linear \\n C:{} Training Score : {:2f} Test Score : {:2f}\\n\".format(this_C,clf3train,clf3test))"
   ]
  },
  {
   "cell_type": "code",
   "execution_count": null,
   "metadata": {},
   "outputs": [],
   "source": []
  }
 ],
 "metadata": {
  "kernelspec": {
   "display_name": "Python 3",
   "language": "python",
   "name": "python3"
  },
  "language_info": {
   "codemirror_mode": {
    "name": "ipython",
    "version": 3
   },
   "file_extension": ".py",
   "mimetype": "text/x-python",
   "name": "python",
   "nbconvert_exporter": "python",
   "pygments_lexer": "ipython3",
   "version": "3.7.3"
  }
 },
 "nbformat": 4,
 "nbformat_minor": 2
}
