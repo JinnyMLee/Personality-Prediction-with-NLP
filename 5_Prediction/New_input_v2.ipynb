{
 "cells": [
  {
   "cell_type": "code",
   "execution_count": 1,
   "metadata": {
    "colab": {
     "base_uri": "https://localhost:8080/",
     "height": 330
    },
    "colab_type": "code",
    "executionInfo": {
     "elapsed": 1040,
     "status": "error",
     "timestamp": 1561739772909,
     "user": {
      "displayName": "‍백상현(학부/공과대학 정보산업공학)",
      "photoUrl": "",
      "userId": "11553433752458671128"
     },
     "user_tz": -540
    },
    "id": "970MUvkN52G8",
    "outputId": "e7463f5f-e01a-4c13-a854-d93e5b7dffe5"
   },
   "outputs": [],
   "source": [
    "import pandas as pd\n",
    "import numpy as np\n",
    "import pickle\n",
    "import re\n",
    "from sklearn.feature_extraction.text import TfidfVectorizer\n",
    "from gensim.models import FastText, Word2Vec\n",
    "from gensim.models.doc2vec import Doc2Vec, TaggedDocument\n",
    "from konlpy.tag import Okt"
   ]
  },
  {
   "cell_type": "code",
   "execution_count": 2,
   "metadata": {
    "colab": {},
    "colab_type": "code",
    "id": "9JtzolXy52HA",
    "outputId": "4e0d13f1-bb89-4c3c-850b-cdbbdbf5665f",
    "scrolled": true
   },
   "outputs": [
    {
     "name": "stderr",
     "output_type": "stream",
     "text": [
      "/home/jinny/anaconda3/lib/python3.7/site-packages/jpype/_core.py:210: UserWarning: \n",
      "-------------------------------------------------------------------------------\n",
      "Deprecated: convertStrings was not specified when starting the JVM. The default\n",
      "behavior in JPype will be False starting in JPype 0.8. The recommended setting\n",
      "for new code is convertStrings=False.  The legacy value of True was assumed for\n",
      "this session. If you are a user of an application that reported this warning,\n",
      "please file a ticket with the developer.\n",
      "-------------------------------------------------------------------------------\n",
      "\n",
      "  \"\"\")\n"
     ]
    }
   ],
   "source": [
    "okt = Okt()"
   ]
  },
  {
   "cell_type": "markdown",
   "metadata": {
    "colab_type": "text",
    "id": "q6VonkkK52HG"
   },
   "source": [
    "## 1. 새로운 input 받기"
   ]
  },
  {
   "cell_type": "code",
   "execution_count": 3,
   "metadata": {
    "colab": {},
    "colab_type": "code",
    "id": "G6mTWlQI52HJ"
   },
   "outputs": [],
   "source": [
    "new_text = '명지니~~~~한창 컨퍼런스 준비중이지 나 일이있어서 컨퍼런스 못가지만 명지니가 발표한번 더해줄거  알아 왱???? 무슨일이야!!!!!!!!!!ㅋㅋㅋㅋㅋㅋ 저는 마스터가......아닙니다.....!!!! 충격고백 햄스터엿던것이다 내가 햄스터란걸 알려주고싶어서 연락햇어... ㅋㅋㅋㅋㄱ 나 컨퍼런스 몬갓ㆍ 앜ㅋㅋㅋㅋㄱ 잊어줘..!.!!!!!! 뒷목을 친다 명지니 기절'"
   ]
  },
  {
   "cell_type": "markdown",
   "metadata": {
    "colab_type": "text",
    "id": "-6OLvmW252HL"
   },
   "source": [
    "## 2. Tokenization"
   ]
  },
  {
   "cell_type": "code",
   "execution_count": 4,
   "metadata": {
    "colab": {
     "base_uri": "https://localhost:8080/",
     "height": 179
    },
    "colab_type": "code",
    "executionInfo": {
     "elapsed": 948,
     "status": "error",
     "timestamp": 1561739682194,
     "user": {
      "displayName": "‍백상현(학부/공과대학 정보산업공학)",
      "photoUrl": "",
      "userId": "11553433752458671128"
     },
     "user_tz": -540
    },
    "id": "EBR7uaEF52HM",
    "outputId": "c0cb73cb-7759-460f-80cd-40a5638fcf5b"
   },
   "outputs": [],
   "source": [
    "new_morphs = None\n",
    "for i in range(len(new_text)):\n",
    "    new_morphs = okt.morphs(new_text, norm=True, stem=True)"
   ]
  },
  {
   "cell_type": "markdown",
   "metadata": {
    "colab_type": "text",
    "id": "z1lvVgn052HZ"
   },
   "source": [
    "## 3-1. Word2Vec_SG"
   ]
  },
  {
   "cell_type": "code",
   "execution_count": 5,
   "metadata": {
    "colab": {},
    "colab_type": "code",
    "id": "hKLLThxP6Otx",
    "outputId": "0ef0cbf2-9603-4bf9-c415-15ce70c3bab1",
    "scrolled": true
   },
   "outputs": [
    {
     "name": "stderr",
     "output_type": "stream",
     "text": [
      "/home/jinny/anaconda3/lib/python3.7/site-packages/smart_open/smart_open_lib.py:398: UserWarning: This function is deprecated, use smart_open.open instead. See the migration notes for details: https://github.com/RaRe-Technologies/smart_open/blob/master/README.rst#migrating-to-the-new-open-function\n",
      "  'See the migration notes for details: %s' % _MIGRATION_NOTES_URL\n"
     ]
    }
   ],
   "source": [
    "w2v_sg = Word2Vec.load(\"word2vec_skip_gram_2.model\")"
   ]
  },
  {
   "cell_type": "code",
   "execution_count": 6,
   "metadata": {
    "colab": {},
    "colab_type": "code",
    "id": "x_YF6g2T6OjG"
   },
   "outputs": [],
   "source": [
    "def averaging_w2v_sg(a):\n",
    "    temp = np.zeros(300)\n",
    "    cnt = 0\n",
    "    for token in a:\n",
    "        try:\n",
    "            temp += w2v_sg.wv[token]\n",
    "        except:\n",
    "            cnt += 1\n",
    "    return temp/(len(a)-cnt)"
   ]
  },
  {
   "cell_type": "code",
   "execution_count": 7,
   "metadata": {
    "colab": {},
    "colab_type": "code",
    "id": "1tlNbE8K6OTS",
    "scrolled": true
   },
   "outputs": [],
   "source": [
    "i1 = averaging_w2v_sg(new_morphs)"
   ]
  },
  {
   "cell_type": "markdown",
   "metadata": {
    "colab_type": "text",
    "id": "WRGx47WF52H6"
   },
   "source": [
    "## 3-1. Doc2Vec_PV-DBOW"
   ]
  },
  {
   "cell_type": "code",
   "execution_count": 8,
   "metadata": {
    "colab": {},
    "colab_type": "code",
    "id": "xBE-L-e852H7"
   },
   "outputs": [
    {
     "name": "stderr",
     "output_type": "stream",
     "text": [
      "/home/jinny/anaconda3/lib/python3.7/site-packages/smart_open/smart_open_lib.py:398: UserWarning: This function is deprecated, use smart_open.open instead. See the migration notes for details: https://github.com/RaRe-Technologies/smart_open/blob/master/README.rst#migrating-to-the-new-open-function\n",
      "  'See the migration notes for details: %s' % _MIGRATION_NOTES_URL\n"
     ]
    }
   ],
   "source": [
    "d2v_dbow = Doc2Vec.load(\"doc2vec_PV_DBOW.model\")"
   ]
  },
  {
   "cell_type": "code",
   "execution_count": 9,
   "metadata": {
    "colab": {},
    "colab_type": "code",
    "id": "yeT6o7Wq52H_",
    "scrolled": true
   },
   "outputs": [],
   "source": [
    "i34 = d2v_dbow.infer_vector(new_morphs)"
   ]
  },
  {
   "cell_type": "markdown",
   "metadata": {
    "colab_type": "text",
    "id": "8enZRrgM7RyK"
   },
   "source": [
    "## 3-1. tf-idf w2v skipgram"
   ]
  },
  {
   "cell_type": "code",
   "execution_count": 10,
   "metadata": {
    "colab": {},
    "colab_type": "code",
    "id": "pW1HihYz7Ndg"
   },
   "outputs": [
    {
     "name": "stderr",
     "output_type": "stream",
     "text": [
      "/home/jinny/anaconda3/lib/python3.7/site-packages/smart_open/smart_open_lib.py:398: UserWarning: This function is deprecated, use smart_open.open instead. See the migration notes for details: https://github.com/RaRe-Technologies/smart_open/blob/master/README.rst#migrating-to-the-new-open-function\n",
      "  'See the migration notes for details: %s' % _MIGRATION_NOTES_URL\n"
     ]
    }
   ],
   "source": [
    "from gensim.corpora import Dictionary\n",
    "from gensim.models.tfidfmodel import TfidfModel\n",
    "from gensim.matutils import sparse2full\n",
    "\n",
    "with open('zebal_version2.pickle', 'rb') as f:\n",
    "    df = pickle.load(f)\n",
    "\n",
    "# 가입 인사 제거\n",
    "df = df[df['board']!='가입 인사 (등업 필수)']\n",
    "df = df.reset_index()\n",
    "df = df.append({'morphs':new_morphs},ignore_index=True)\n",
    "\n",
    "docs_dict = Dictionary(df['morphs'])\n",
    "docs_dict.filter_extremes(no_below=20, no_above=0.2)\n",
    "docs_dict.compactify()\n",
    "\n",
    "docs_corpus = [docs_dict.doc2bow(doc) for doc in df['morphs']]\n",
    "model_tfidf = TfidfModel(docs_corpus, id2word=docs_dict)\n",
    "docs_tfidf  = model_tfidf[docs_corpus]\n",
    "\n",
    "docs_vecs   = np.vstack([sparse2full(c, len(docs_dict)) for c in docs_tfidf])\n",
    "\n",
    "w2v_sg = Word2Vec.load(\"word2vec_skip_gram_2.model\")\n",
    "\n",
    "tfidf_emb_vecs = np.vstack([w2v_sg.wv[docs_dict[i]] for i in range(len(docs_dict))])\n",
    "\n",
    "docs_emb = np.dot(docs_vecs, tfidf_emb_vecs)\n",
    "\n",
    "i2 = docs_emb[-1]"
   ]
  },
  {
   "cell_type": "markdown",
   "metadata": {
    "colab_type": "text",
    "id": "vImv0e0M52IO"
   },
   "source": [
    "## 5. Predict"
   ]
  },
  {
   "cell_type": "code",
   "execution_count": 11,
   "metadata": {
    "colab": {},
    "colab_type": "code",
    "id": "xXEoayur52IP",
    "outputId": "57c8a392-d283-4d70-9c70-1c67e4a3e6e5"
   },
   "outputs": [
    {
     "name": "stderr",
     "output_type": "stream",
     "text": [
      "/home/jinny/anaconda3/lib/python3.7/site-packages/sklearn/base.py:253: UserWarning: Trying to unpickle estimator LabelEncoder from version 0.21.2 when using version 0.20.3. This might lead to breaking code or invalid results. Use at your own risk.\n",
      "  UserWarning)\n"
     ]
    }
   ],
   "source": [
    "#Import Classifier\n",
    "\n",
    "#L1 classifier\n",
    "with open(\"gbm_[_w2v_skipgram_avg_]_cv5_L1.pickle\", 'rb') as f:\n",
    "    c1 = pickle.load(f)\n",
    "    \n",
    "#L2 classifier\n",
    "with open(\"gbm_tfidf_w2v_sg_avg.pickle_2_cv_L2.pickle\", 'rb') as f:\n",
    "    c2 = pickle.load(f)\n",
    "    \n",
    "#L3 classifier\n",
    "with open(\"gbm_[_doc2vec_PV_DBOW_]_cv2_L3.pickle\", 'rb') as f:\n",
    "    c3 = pickle.load(f)\n",
    "    \n",
    "#L4 classifier\n",
    "with open(\"gbm_[_doc2vec_PV_DBOW_]_cv3_L4.pickle\", 'rb') as f:\n",
    "    c4 = pickle.load(f)"
   ]
  },
  {
   "cell_type": "code",
   "execution_count": 12,
   "metadata": {
    "colab": {},
    "colab_type": "code",
    "id": "q8pd5kTF52IS",
    "scrolled": true
   },
   "outputs": [],
   "source": [
    "i1 = pd.DataFrame(i1)\n",
    "i1 = i1.T\n",
    "i1.columns = ['w2v_skipgram_avg_{}'.format(str(i)) for i in range(300) ]\n",
    "\n",
    "i2 = pd.DataFrame(i2)\n",
    "i2 = i2.T\n",
    "\n",
    "i34 = pd.DataFrame(i34)\n",
    "i34 = i34.T\n",
    "i34.columns = ['doc2vec_PV_DBOW_{}'.format(str(i)) for i in range(300) ]"
   ]
  },
  {
   "cell_type": "code",
   "execution_count": 13,
   "metadata": {
    "colab": {},
    "colab_type": "code",
    "id": "CyqF5aCD52IZ",
    "scrolled": false
   },
   "outputs": [],
   "source": [
    "#make prediction\n",
    "pred1 = c1.predict(i1)\n",
    "pred2 = c2.predict(i2)\n",
    "pred3 = c3.predict(i34)\n",
    "pred4 = c4.predict(i34)"
   ]
  },
  {
   "cell_type": "code",
   "execution_count": 14,
   "metadata": {
    "colab": {},
    "colab_type": "code",
    "id": "ez2MCuCX52Id"
   },
   "outputs": [],
   "source": [
    "Output = pred1 + pred2 + pred3 + pred4"
   ]
  },
  {
   "cell_type": "code",
   "execution_count": 15,
   "metadata": {
    "colab": {},
    "colab_type": "code",
    "id": "8gWpCCoZ52If",
    "outputId": "2a40010f-212e-4ee2-f5d4-cdf68dedc3c8"
   },
   "outputs": [
    {
     "data": {
      "text/plain": [
       "array(['ENFP'], dtype=object)"
      ]
     },
     "execution_count": 15,
     "metadata": {},
     "output_type": "execute_result"
    }
   ],
   "source": [
    "Output"
   ]
  },
  {
   "cell_type": "code",
   "execution_count": null,
   "metadata": {
    "colab": {},
    "colab_type": "code",
    "id": "njYcMQ3V52Ii"
   },
   "outputs": [],
   "source": []
  }
 ],
 "metadata": {
  "colab": {
   "collapsed_sections": [],
   "name": "New_input_v2.ipynb",
   "provenance": [],
   "version": "0.3.2"
  },
  "kernelspec": {
   "display_name": "Python 3",
   "language": "python",
   "name": "python3"
  },
  "language_info": {
   "codemirror_mode": {
    "name": "ipython",
    "version": 3
   },
   "file_extension": ".py",
   "mimetype": "text/x-python",
   "name": "python",
   "nbconvert_exporter": "python",
   "pygments_lexer": "ipython3",
   "version": "3.7.3"
  }
 },
 "nbformat": 4,
 "nbformat_minor": 1
}
