{
 "cells": [
  {
   "cell_type": "code",
   "execution_count": 1,
   "metadata": {},
   "outputs": [],
   "source": [
    "import pandas as pd\n",
    "import numpy as np\n",
    "import pickle\n",
    "import re\n",
    "from sklearn.feature_extraction.text import TfidfVectorizer\n",
    "from gensim.models import FastText, Word2Vec\n",
    "from gensim.models.doc2vec import Doc2Vec, TaggedDocument"
   ]
  },
  {
   "cell_type": "markdown",
   "metadata": {},
   "source": [
    "## load data"
   ]
  },
  {
   "cell_type": "code",
   "execution_count": 2,
   "metadata": {},
   "outputs": [],
   "source": [
    "with open('zebal_version2.pickle', 'rb') as f:\n",
    "    df = pickle.load(f)"
   ]
  },
  {
   "cell_type": "code",
   "execution_count": 3,
   "metadata": {},
   "outputs": [],
   "source": [
    "# 가입 인사 제거\n",
    "df = df[df['board']!='가입 인사 (등업 필수)']\n",
    "df = df.reset_index()"
   ]
  },
  {
   "cell_type": "code",
   "execution_count": 4,
   "metadata": {},
   "outputs": [],
   "source": [
    "contents = []\n",
    "for m in df['morphs']:\n",
    "    string = ' '.join(m) # string per post\n",
    "    contents.append(string) # a list of post strings"
   ]
  },
  {
   "cell_type": "markdown",
   "metadata": {},
   "source": [
    "## TF-IDF vector"
   ]
  },
  {
   "cell_type": "code",
   "execution_count": 5,
   "metadata": {},
   "outputs": [],
   "source": [
    "tfidf = TfidfVectorizer(lowercase=False, token_pattern=r'\\S+', min_df=20)\n",
    "# 자동적으로 lowercase로 바꿔주고 기호 종류는 모두 토큰으로 취급하지 않기 때문에 위와 같은 argument를 넣어줍니다."
   ]
  },
  {
   "cell_type": "code",
   "execution_count": 6,
   "metadata": {},
   "outputs": [],
   "source": [
    "vect = tfidf.fit_transform(contents).todense()"
   ]
  },
  {
   "cell_type": "code",
   "execution_count": 7,
   "metadata": {
    "scrolled": true
   },
   "outputs": [
    {
     "name": "stdout",
     "output_type": "stream",
     "text": [
      "(28569, 9843)\n"
     ]
    },
    {
     "data": {
      "text/html": [
       "<div>\n",
       "<style scoped>\n",
       "    .dataframe tbody tr th:only-of-type {\n",
       "        vertical-align: middle;\n",
       "    }\n",
       "\n",
       "    .dataframe tbody tr th {\n",
       "        vertical-align: top;\n",
       "    }\n",
       "\n",
       "    .dataframe thead th {\n",
       "        text-align: right;\n",
       "    }\n",
       "</style>\n",
       "<table border=\"1\" class=\"dataframe\">\n",
       "  <thead>\n",
       "    <tr style=\"text-align: right;\">\n",
       "      <th></th>\n",
       "      <th>!</th>\n",
       "      <th>!!</th>\n",
       "      <th>!!!</th>\n",
       "      <th>!!!!</th>\n",
       "      <th>!!!!!</th>\n",
       "      <th>!!!!!!</th>\n",
       "      <th>!!!!!!!</th>\n",
       "      <th>!!!(</th>\n",
       "      <th>!!!)</th>\n",
       "      <th>!!!&lt;</th>\n",
       "      <th>...</th>\n",
       "      <th>힘내다</th>\n",
       "      <th>힘드다</th>\n",
       "      <th>힘들다</th>\n",
       "      <th>힘쓰다</th>\n",
       "      <th>힘없다</th>\n",
       "      <th>힘차다</th>\n",
       "      <th>힙합</th>\n",
       "      <th>힝</th>\n",
       "      <th>﻿</th>\n",
       "      <th>＃</th>\n",
       "    </tr>\n",
       "  </thead>\n",
       "  <tbody>\n",
       "    <tr>\n",
       "      <th>0</th>\n",
       "      <td>0.0</td>\n",
       "      <td>0.0</td>\n",
       "      <td>0.0</td>\n",
       "      <td>0.0</td>\n",
       "      <td>0.0</td>\n",
       "      <td>0.0</td>\n",
       "      <td>0.0</td>\n",
       "      <td>0.0</td>\n",
       "      <td>0.0</td>\n",
       "      <td>0.0</td>\n",
       "      <td>...</td>\n",
       "      <td>0.0</td>\n",
       "      <td>0.0</td>\n",
       "      <td>0.0</td>\n",
       "      <td>0.0</td>\n",
       "      <td>0.0</td>\n",
       "      <td>0.0</td>\n",
       "      <td>0.0</td>\n",
       "      <td>0.0</td>\n",
       "      <td>0.0</td>\n",
       "      <td>0.0</td>\n",
       "    </tr>\n",
       "    <tr>\n",
       "      <th>1</th>\n",
       "      <td>0.0</td>\n",
       "      <td>0.0</td>\n",
       "      <td>0.0</td>\n",
       "      <td>0.0</td>\n",
       "      <td>0.0</td>\n",
       "      <td>0.0</td>\n",
       "      <td>0.0</td>\n",
       "      <td>0.0</td>\n",
       "      <td>0.0</td>\n",
       "      <td>0.0</td>\n",
       "      <td>...</td>\n",
       "      <td>0.0</td>\n",
       "      <td>0.0</td>\n",
       "      <td>0.0</td>\n",
       "      <td>0.0</td>\n",
       "      <td>0.0</td>\n",
       "      <td>0.0</td>\n",
       "      <td>0.0</td>\n",
       "      <td>0.0</td>\n",
       "      <td>0.0</td>\n",
       "      <td>0.0</td>\n",
       "    </tr>\n",
       "    <tr>\n",
       "      <th>2</th>\n",
       "      <td>0.0</td>\n",
       "      <td>0.0</td>\n",
       "      <td>0.0</td>\n",
       "      <td>0.0</td>\n",
       "      <td>0.0</td>\n",
       "      <td>0.0</td>\n",
       "      <td>0.0</td>\n",
       "      <td>0.0</td>\n",
       "      <td>0.0</td>\n",
       "      <td>0.0</td>\n",
       "      <td>...</td>\n",
       "      <td>0.0</td>\n",
       "      <td>0.0</td>\n",
       "      <td>0.0</td>\n",
       "      <td>0.0</td>\n",
       "      <td>0.0</td>\n",
       "      <td>0.0</td>\n",
       "      <td>0.0</td>\n",
       "      <td>0.0</td>\n",
       "      <td>0.0</td>\n",
       "      <td>0.0</td>\n",
       "    </tr>\n",
       "    <tr>\n",
       "      <th>3</th>\n",
       "      <td>0.0</td>\n",
       "      <td>0.0</td>\n",
       "      <td>0.0</td>\n",
       "      <td>0.0</td>\n",
       "      <td>0.0</td>\n",
       "      <td>0.0</td>\n",
       "      <td>0.0</td>\n",
       "      <td>0.0</td>\n",
       "      <td>0.0</td>\n",
       "      <td>0.0</td>\n",
       "      <td>...</td>\n",
       "      <td>0.0</td>\n",
       "      <td>0.0</td>\n",
       "      <td>0.0</td>\n",
       "      <td>0.0</td>\n",
       "      <td>0.0</td>\n",
       "      <td>0.0</td>\n",
       "      <td>0.0</td>\n",
       "      <td>0.0</td>\n",
       "      <td>0.0</td>\n",
       "      <td>0.0</td>\n",
       "    </tr>\n",
       "    <tr>\n",
       "      <th>4</th>\n",
       "      <td>0.0</td>\n",
       "      <td>0.0</td>\n",
       "      <td>0.0</td>\n",
       "      <td>0.0</td>\n",
       "      <td>0.0</td>\n",
       "      <td>0.0</td>\n",
       "      <td>0.0</td>\n",
       "      <td>0.0</td>\n",
       "      <td>0.0</td>\n",
       "      <td>0.0</td>\n",
       "      <td>...</td>\n",
       "      <td>0.0</td>\n",
       "      <td>0.0</td>\n",
       "      <td>0.0</td>\n",
       "      <td>0.0</td>\n",
       "      <td>0.0</td>\n",
       "      <td>0.0</td>\n",
       "      <td>0.0</td>\n",
       "      <td>0.0</td>\n",
       "      <td>0.0</td>\n",
       "      <td>0.0</td>\n",
       "    </tr>\n",
       "  </tbody>\n",
       "</table>\n",
       "<p>5 rows × 9843 columns</p>\n",
       "</div>"
      ],
      "text/plain": [
       "     !   !!  !!!  !!!!  !!!!!  !!!!!!  !!!!!!!  !!!(  !!!)  !!!<  ...  힘내다  \\\n",
       "0  0.0  0.0  0.0   0.0    0.0     0.0      0.0   0.0   0.0   0.0  ...  0.0   \n",
       "1  0.0  0.0  0.0   0.0    0.0     0.0      0.0   0.0   0.0   0.0  ...  0.0   \n",
       "2  0.0  0.0  0.0   0.0    0.0     0.0      0.0   0.0   0.0   0.0  ...  0.0   \n",
       "3  0.0  0.0  0.0   0.0    0.0     0.0      0.0   0.0   0.0   0.0  ...  0.0   \n",
       "4  0.0  0.0  0.0   0.0    0.0     0.0      0.0   0.0   0.0   0.0  ...  0.0   \n",
       "\n",
       "   힘드다  힘들다  힘쓰다  힘없다  힘차다   힙합    힝    ﻿    ＃  \n",
       "0  0.0  0.0  0.0  0.0  0.0  0.0  0.0  0.0  0.0  \n",
       "1  0.0  0.0  0.0  0.0  0.0  0.0  0.0  0.0  0.0  \n",
       "2  0.0  0.0  0.0  0.0  0.0  0.0  0.0  0.0  0.0  \n",
       "3  0.0  0.0  0.0  0.0  0.0  0.0  0.0  0.0  0.0  \n",
       "4  0.0  0.0  0.0  0.0  0.0  0.0  0.0  0.0  0.0  \n",
       "\n",
       "[5 rows x 9843 columns]"
      ]
     },
     "execution_count": 7,
     "metadata": {},
     "output_type": "execute_result"
    }
   ],
   "source": [
    "dtm = pd.DataFrame(vect, columns=tfidf.get_feature_names())\n",
    "print(dtm.shape) # documents x terms\n",
    "dtm.head()"
   ]
  },
  {
   "cell_type": "markdown",
   "metadata": {},
   "source": [
    "## 지금까지 완성된 data"
   ]
  },
  {
   "cell_type": "code",
   "execution_count": 8,
   "metadata": {},
   "outputs": [],
   "source": [
    "with open('all_embbeding_df_v2.pickle', 'rb') as f:\n",
    "    embed = pickle.load(f)"
   ]
  },
  {
   "cell_type": "code",
   "execution_count": 9,
   "metadata": {},
   "outputs": [],
   "source": [
    "dtm['morphs'] = df['morphs']"
   ]
  },
  {
   "cell_type": "code",
   "execution_count": 10,
   "metadata": {},
   "outputs": [
    {
     "data": {
      "text/html": [
       "<div>\n",
       "<style scoped>\n",
       "    .dataframe tbody tr th:only-of-type {\n",
       "        vertical-align: middle;\n",
       "    }\n",
       "\n",
       "    .dataframe tbody tr th {\n",
       "        vertical-align: top;\n",
       "    }\n",
       "\n",
       "    .dataframe thead th {\n",
       "        text-align: right;\n",
       "    }\n",
       "</style>\n",
       "<table border=\"1\" class=\"dataframe\">\n",
       "  <thead>\n",
       "    <tr style=\"text-align: right;\">\n",
       "      <th></th>\n",
       "      <th>!</th>\n",
       "      <th>!!</th>\n",
       "      <th>!!!</th>\n",
       "      <th>!!!!</th>\n",
       "      <th>!!!!!</th>\n",
       "      <th>!!!!!!</th>\n",
       "      <th>!!!!!!!</th>\n",
       "      <th>!!!(</th>\n",
       "      <th>!!!)</th>\n",
       "      <th>!!!&lt;</th>\n",
       "      <th>...</th>\n",
       "      <th>힘드다</th>\n",
       "      <th>힘들다</th>\n",
       "      <th>힘쓰다</th>\n",
       "      <th>힘없다</th>\n",
       "      <th>힘차다</th>\n",
       "      <th>힙합</th>\n",
       "      <th>힝</th>\n",
       "      <th>﻿</th>\n",
       "      <th>＃</th>\n",
       "      <th>morphs</th>\n",
       "    </tr>\n",
       "  </thead>\n",
       "  <tbody>\n",
       "    <tr>\n",
       "      <th>0</th>\n",
       "      <td>0.0</td>\n",
       "      <td>0.0</td>\n",
       "      <td>0.0</td>\n",
       "      <td>0.0</td>\n",
       "      <td>0.0</td>\n",
       "      <td>0.0</td>\n",
       "      <td>0.0</td>\n",
       "      <td>0.0</td>\n",
       "      <td>0.0</td>\n",
       "      <td>0.0</td>\n",
       "      <td>...</td>\n",
       "      <td>0.0</td>\n",
       "      <td>0.0</td>\n",
       "      <td>0.0</td>\n",
       "      <td>0.0</td>\n",
       "      <td>0.0</td>\n",
       "      <td>0.0</td>\n",
       "      <td>0.0</td>\n",
       "      <td>0.0</td>\n",
       "      <td>0.0</td>\n",
       "      <td>[오프라인, 톡방, 개시, ', 한, 강의, 온도, 시즌, 1, ', 지역, 제한,...</td>\n",
       "    </tr>\n",
       "    <tr>\n",
       "      <th>1</th>\n",
       "      <td>0.0</td>\n",
       "      <td>0.0</td>\n",
       "      <td>0.0</td>\n",
       "      <td>0.0</td>\n",
       "      <td>0.0</td>\n",
       "      <td>0.0</td>\n",
       "      <td>0.0</td>\n",
       "      <td>0.0</td>\n",
       "      <td>0.0</td>\n",
       "      <td>0.0</td>\n",
       "      <td>...</td>\n",
       "      <td>0.0</td>\n",
       "      <td>0.0</td>\n",
       "      <td>0.0</td>\n",
       "      <td>0.0</td>\n",
       "      <td>0.0</td>\n",
       "      <td>0.0</td>\n",
       "      <td>0.0</td>\n",
       "      <td>0.0</td>\n",
       "      <td>0.0</td>\n",
       "      <td>[[, 오픈, 톡방, ], TEA, &amp;, MBTI, STORY, 주제, :, 차, ...</td>\n",
       "    </tr>\n",
       "    <tr>\n",
       "      <th>2</th>\n",
       "      <td>0.0</td>\n",
       "      <td>0.0</td>\n",
       "      <td>0.0</td>\n",
       "      <td>0.0</td>\n",
       "      <td>0.0</td>\n",
       "      <td>0.0</td>\n",
       "      <td>0.0</td>\n",
       "      <td>0.0</td>\n",
       "      <td>0.0</td>\n",
       "      <td>0.0</td>\n",
       "      <td>...</td>\n",
       "      <td>0.0</td>\n",
       "      <td>0.0</td>\n",
       "      <td>0.0</td>\n",
       "      <td>0.0</td>\n",
       "      <td>0.0</td>\n",
       "      <td>0.0</td>\n",
       "      <td>0.0</td>\n",
       "      <td>0.0</td>\n",
       "      <td>0.0</td>\n",
       "      <td>[우리, 카페, 통계, 몇, 가지, &lt;, 2월, &gt;, 우리, 카페, 의, 통계, 정...</td>\n",
       "    </tr>\n",
       "    <tr>\n",
       "      <th>3</th>\n",
       "      <td>0.0</td>\n",
       "      <td>0.0</td>\n",
       "      <td>0.0</td>\n",
       "      <td>0.0</td>\n",
       "      <td>0.0</td>\n",
       "      <td>0.0</td>\n",
       "      <td>0.0</td>\n",
       "      <td>0.0</td>\n",
       "      <td>0.0</td>\n",
       "      <td>0.0</td>\n",
       "      <td>...</td>\n",
       "      <td>0.0</td>\n",
       "      <td>0.0</td>\n",
       "      <td>0.0</td>\n",
       "      <td>0.0</td>\n",
       "      <td>0.0</td>\n",
       "      <td>0.0</td>\n",
       "      <td>0.0</td>\n",
       "      <td>0.0</td>\n",
       "      <td>0.0</td>\n",
       "      <td>[몇, 달동, 안이, 나, 미루다, 오다, 당부, 의, 말씀, 을, 회원, 님, 들...</td>\n",
       "    </tr>\n",
       "    <tr>\n",
       "      <th>4</th>\n",
       "      <td>0.0</td>\n",
       "      <td>0.0</td>\n",
       "      <td>0.0</td>\n",
       "      <td>0.0</td>\n",
       "      <td>0.0</td>\n",
       "      <td>0.0</td>\n",
       "      <td>0.0</td>\n",
       "      <td>0.0</td>\n",
       "      <td>0.0</td>\n",
       "      <td>0.0</td>\n",
       "      <td>...</td>\n",
       "      <td>0.0</td>\n",
       "      <td>0.0</td>\n",
       "      <td>0.0</td>\n",
       "      <td>0.0</td>\n",
       "      <td>0.0</td>\n",
       "      <td>0.0</td>\n",
       "      <td>0.0</td>\n",
       "      <td>0.0</td>\n",
       "      <td>0.0</td>\n",
       "      <td>[Estp, 여자, 이미지, 어떤, 가요, ?, 참고, 로, 에니어그램, 은, 8,...</td>\n",
       "    </tr>\n",
       "  </tbody>\n",
       "</table>\n",
       "<p>5 rows × 9844 columns</p>\n",
       "</div>"
      ],
      "text/plain": [
       "     !   !!  !!!  !!!!  !!!!!  !!!!!!  !!!!!!!  !!!(  !!!)  !!!<  ...  힘드다  \\\n",
       "0  0.0  0.0  0.0   0.0    0.0     0.0      0.0   0.0   0.0   0.0  ...  0.0   \n",
       "1  0.0  0.0  0.0   0.0    0.0     0.0      0.0   0.0   0.0   0.0  ...  0.0   \n",
       "2  0.0  0.0  0.0   0.0    0.0     0.0      0.0   0.0   0.0   0.0  ...  0.0   \n",
       "3  0.0  0.0  0.0   0.0    0.0     0.0      0.0   0.0   0.0   0.0  ...  0.0   \n",
       "4  0.0  0.0  0.0   0.0    0.0     0.0      0.0   0.0   0.0   0.0  ...  0.0   \n",
       "\n",
       "   힘들다  힘쓰다  힘없다  힘차다   힙합    힝    ﻿    ＃  \\\n",
       "0  0.0  0.0  0.0  0.0  0.0  0.0  0.0  0.0   \n",
       "1  0.0  0.0  0.0  0.0  0.0  0.0  0.0  0.0   \n",
       "2  0.0  0.0  0.0  0.0  0.0  0.0  0.0  0.0   \n",
       "3  0.0  0.0  0.0  0.0  0.0  0.0  0.0  0.0   \n",
       "4  0.0  0.0  0.0  0.0  0.0  0.0  0.0  0.0   \n",
       "\n",
       "                                              morphs  \n",
       "0  [오프라인, 톡방, 개시, ', 한, 강의, 온도, 시즌, 1, ', 지역, 제한,...  \n",
       "1  [[, 오픈, 톡방, ], TEA, &, MBTI, STORY, 주제, :, 차, ...  \n",
       "2  [우리, 카페, 통계, 몇, 가지, <, 2월, >, 우리, 카페, 의, 통계, 정...  \n",
       "3  [몇, 달동, 안이, 나, 미루다, 오다, 당부, 의, 말씀, 을, 회원, 님, 들...  \n",
       "4  [Estp, 여자, 이미지, 어떤, 가요, ?, 참고, 로, 에니어그램, 은, 8,...  \n",
       "\n",
       "[5 rows x 9844 columns]"
      ]
     },
     "execution_count": 10,
     "metadata": {},
     "output_type": "execute_result"
    }
   ],
   "source": [
    "dtm.head()"
   ]
  },
  {
   "cell_type": "code",
   "execution_count": 13,
   "metadata": {
    "scrolled": true
   },
   "outputs": [
    {
     "name": "stderr",
     "output_type": "stream",
     "text": [
      "c:\\users\\jinny\\miniconda3\\lib\\site-packages\\smart_open\\smart_open_lib.py:398: UserWarning: This function is deprecated, use smart_open.open instead. See the migration notes for details: https://github.com/RaRe-Technologies/smart_open/blob/master/README.rst#migrating-to-the-new-open-function\n",
      "  'See the migration notes for details: %s' % _MIGRATION_NOTES_URL\n"
     ]
    }
   ],
   "source": [
    "w2v = Word2Vec.load(\"word2vec_cbow.model\")"
   ]
  },
  {
   "cell_type": "code",
   "execution_count": 14,
   "metadata": {
    "scrolled": true
   },
   "outputs": [
    {
     "data": {
      "text/plain": [
       "['Estp',\n",
       " '여자',\n",
       " '이미지',\n",
       " '어떤',\n",
       " '가요',\n",
       " '?',\n",
       " '참고',\n",
       " '로',\n",
       " '에니어그램',\n",
       " '은',\n",
       " '8',\n",
       " 'w',\n",
       " '7',\n",
       " '이다',\n",
       " '~~']"
      ]
     },
     "execution_count": 14,
     "metadata": {},
     "output_type": "execute_result"
    }
   ],
   "source": [
    "df['morphs'][4]"
   ]
  },
  {
   "cell_type": "code",
   "execution_count": 15,
   "metadata": {
    "scrolled": true
   },
   "outputs": [
    {
     "data": {
      "text/plain": [
       "array([-1.30976513e-01, -1.66101411e-01, -5.20755537e-02, -4.41010594e-01,\n",
       "        6.58510029e-01, -8.80238533e-01,  1.29653560e-03, -4.40452946e-03,\n",
       "       -3.32174599e-01,  2.04511248e-02,  1.42542839e-01, -4.21399504e-01,\n",
       "       -1.30315542e-01,  1.83752790e-01, -1.46023571e+00, -3.37984562e-02,\n",
       "       -1.20631540e+00, -6.61046505e-01, -6.73100293e-01, -8.79625440e-01,\n",
       "       -3.87979388e-01,  1.28995970e-01,  4.92022812e-01, -1.27542242e-01,\n",
       "       -1.09600508e+00,  5.59089519e-03, -8.24525118e-01, -1.61638349e-01,\n",
       "        1.24012291e-01,  1.17009175e+00,  2.97523886e-01, -8.85237232e-02,\n",
       "       -3.81901592e-01,  3.45201641e-01,  2.22476602e-01,  6.66045189e-01,\n",
       "       -1.30145156e+00, -8.83954585e-01,  3.81915383e-02, -6.44417822e-01,\n",
       "        1.08689344e+00,  1.22526502e-02,  1.15788198e+00, -2.22774632e-02,\n",
       "       -6.02097869e-01, -1.31189322e+00, -2.63060570e-01,  4.74034071e-01,\n",
       "       -4.97671038e-01, -5.25662959e-01, -1.38611913e-01,  2.91912168e-01,\n",
       "        4.85915869e-01,  4.21713650e-01,  5.43772221e-01,  1.30259109e+00,\n",
       "       -7.34977648e-02,  3.86805922e-01,  5.98632872e-01,  7.05581844e-01,\n",
       "       -2.50366122e-01, -8.94700270e-03,  6.06617451e-01, -2.74139613e-01,\n",
       "       -6.25054613e-02, -2.82208268e-02,  4.61257137e-02, -3.88633199e-02,\n",
       "        1.68122694e-01, -7.79880822e-01, -1.17478706e-01,  7.01514065e-01,\n",
       "       -2.13697404e-01,  6.11092821e-02,  5.64440489e-01, -4.42362726e-01,\n",
       "       -2.92163700e-01,  1.26990485e+00,  1.13669902e-01, -6.41301990e-01,\n",
       "       -1.02728939e+00,  8.59775841e-01, -1.15737426e+00, -6.74823821e-01,\n",
       "       -1.32990971e-01, -2.31207028e-01, -4.57992079e-03,  7.37285256e-01,\n",
       "        1.34917367e+00, -1.40525663e+00,  8.56069982e-01, -3.44602883e-01,\n",
       "        7.23927990e-02, -2.12284327e-01,  9.11663294e-01, -2.09625766e-01,\n",
       "       -1.31634879e+00, -4.40086752e-01, -3.79890084e-01, -5.23882098e-02,\n",
       "       -1.42909503e+00, -9.56531465e-01,  3.39775443e-01, -5.52737892e-01,\n",
       "        5.92513561e-01, -9.36029375e-01, -5.50925314e-01, -3.21803957e-01,\n",
       "        3.75740081e-01,  1.95895851e-01,  1.46699876e-01,  2.43373454e-01,\n",
       "       -4.59254652e-01, -1.88316897e-01, -2.94216305e-01,  3.25825848e-02,\n",
       "        3.76610309e-02,  5.04642844e-01, -7.55419582e-02,  5.47747314e-01,\n",
       "        2.05854252e-02,  1.42409340e-01, -1.23848331e+00,  5.62575161e-01,\n",
       "        9.99199450e-02, -6.09543800e-01,  5.33740759e-01,  1.14675117e+00,\n",
       "        3.73207331e-01,  1.00132358e+00, -5.57420790e-01,  5.47180772e-01,\n",
       "        2.04019651e-01, -7.47902155e-01,  7.75225520e-01, -1.33634925e-01,\n",
       "        1.10180163e+00,  6.16526842e-01, -1.21028280e+00, -5.17549291e-02,\n",
       "       -4.39776212e-01,  2.29487821e-01, -9.02619898e-01, -1.37865199e-02,\n",
       "        8.87680471e-01,  2.90638208e-02, -7.88612127e-01, -7.92354941e-01,\n",
       "       -2.94062614e-01, -1.06378174e+00, -1.01547800e-01,  2.11127903e-02,\n",
       "       -6.97147012e-01,  1.16259885e+00,  4.10331488e-01,  8.64886343e-01,\n",
       "        9.25005898e-02, -2.53728509e-01, -3.24880958e-01,  7.46186316e-01,\n",
       "       -6.66165769e-01, -3.42848927e-01, -1.37569952e+00,  1.57441244e-01,\n",
       "       -7.19632804e-01, -1.10432899e+00, -6.92266643e-01, -3.83228391e-01,\n",
       "       -1.30676031e+00, -4.47335720e-01, -1.71419293e-01, -1.67680490e+00,\n",
       "        3.16174150e-01, -3.07123363e-01, -6.50518537e-01,  4.94271517e-01,\n",
       "       -7.67267719e-02, -3.94911081e-01, -6.73006833e-01, -2.80014247e-01,\n",
       "        1.04460871e+00, -7.51058102e-01, -2.96045095e-01, -4.79401708e-01,\n",
       "       -1.25980544e+00,  5.24466157e-01, -3.68304312e-01,  5.22753656e-01,\n",
       "       -4.25976306e-01,  8.44616055e-01, -1.06406474e+00,  8.34699035e-01,\n",
       "       -3.17494154e-01,  7.41217673e-01,  5.22600532e-01, -2.45844424e-01,\n",
       "        2.59586781e-01,  7.14872241e-01,  5.08323789e-01,  3.68864506e-01,\n",
       "       -1.70524701e-01,  1.74315727e+00,  8.45132232e-01,  4.17852610e-01,\n",
       "       -2.62860388e-01, -4.08627421e-01, -1.87260002e-01, -1.88728392e-01,\n",
       "        2.59221226e-01,  2.77173221e-01,  5.24801314e-01,  1.06567228e+00,\n",
       "        5.24419099e-02,  3.56529206e-01, -3.03675860e-01,  7.58013904e-01,\n",
       "       -2.98469841e-01, -2.07913220e-01,  6.54454172e-01,  8.53803933e-01,\n",
       "       -3.46380323e-01,  9.25995782e-02, -1.66823596e-01, -8.27410161e-01,\n",
       "        7.84900129e-01, -8.41420889e-01,  5.45917042e-02,  1.49412131e+00,\n",
       "       -1.49806008e-01, -3.92407119e-01, -4.39868599e-01,  1.19897151e+00,\n",
       "        3.00239921e-01,  8.68891180e-01,  2.95728762e-02, -1.33582401e+00,\n",
       "        2.07650602e-01, -5.82065821e-01, -9.72656965e-01,  9.07317162e-01,\n",
       "        6.40331745e-01,  7.65592098e-01,  1.00429034e+00, -2.31160168e-02,\n",
       "        2.77099043e-01,  7.02899516e-01, -1.28891453e-01, -7.55417347e-01,\n",
       "        1.01665759e+00,  1.55670613e-01, -1.15434742e+00, -8.82137716e-02,\n",
       "        1.53695159e-02,  1.09903023e-01,  7.56233573e-01,  1.97533965e-01,\n",
       "        5.05090117e-01,  4.75020468e-01, -4.07112658e-01, -2.71420670e-03,\n",
       "        8.88633072e-01, -1.12145495e+00,  1.38226473e+00,  7.14252293e-02,\n",
       "       -4.33289081e-01, -9.72043127e-02,  9.14780498e-01, -7.32933730e-02,\n",
       "       -2.02601418e-01, -2.30310351e-01,  1.58175147e+00, -4.01054472e-02,\n",
       "       -1.93780768e+00, -1.34616867e-01, -3.32327783e-01, -1.30859709e+00,\n",
       "       -1.24124810e-01, -5.30615330e-01, -1.52938336e-01,  1.61888868e-01,\n",
       "       -5.15009999e-01, -3.38122636e-01,  1.67203677e+00, -1.17174053e+00,\n",
       "       -2.10855246e-01, -9.60972905e-02, -3.33506227e-01, -2.81733423e-02,\n",
       "       -8.93228829e-01, -6.87596321e-01, -2.36260951e-01,  1.04957819e+00,\n",
       "       -6.40941143e-01,  4.55610216e-01, -6.27645731e-01, -5.78146756e-01,\n",
       "       -4.09148373e-02,  8.03322017e-01, -4.44310218e-01,  4.52951044e-01],\n",
       "      dtype=float32)"
      ]
     },
     "execution_count": 15,
     "metadata": {},
     "output_type": "execute_result"
    }
   ],
   "source": [
    "w2v.wv['여자']"
   ]
  },
  {
   "cell_type": "code",
   "execution_count": 16,
   "metadata": {},
   "outputs": [
    {
     "data": {
      "text/plain": [
       "0.23501880082506796"
      ]
     },
     "execution_count": 16,
     "metadata": {},
     "output_type": "execute_result"
    }
   ],
   "source": [
    "dtm['여자'][4]"
   ]
  },
  {
   "cell_type": "code",
   "execution_count": 17,
   "metadata": {
    "scrolled": true
   },
   "outputs": [
    {
     "data": {
      "text/plain": [
       "array([-3.07819434e-02, -3.90369557e-02, -1.22387344e-02, -1.03645779e-01,\n",
       "        1.54762238e-01, -2.06872612e-01,  3.04710236e-04, -1.03514723e-03,\n",
       "       -7.80672804e-02,  4.80639888e-03,  3.35002467e-02, -9.90368053e-02,\n",
       "       -3.06266025e-02,  4.31853607e-02, -3.43182862e-01, -7.94327259e-03,\n",
       "       -2.83506811e-01, -1.55358359e-01, -1.58191219e-01, -2.06728518e-01,\n",
       "       -9.11824554e-02,  3.03164795e-02,  1.15634613e-01, -2.99748257e-02,\n",
       "       -2.57581800e-01,  1.31396553e-03, -1.93778902e-01, -3.79880518e-02,\n",
       "        2.91452203e-02,  2.74993569e-01,  6.99237064e-02, -2.08047405e-02,\n",
       "       -8.97540525e-02,  8.11288804e-02,  5.22861853e-02,  1.56533137e-01,\n",
       "       -3.05865586e-01, -2.07745954e-01,  8.97572935e-03, -1.51450306e-01,\n",
       "        2.55440384e-01,  2.87960330e-03,  2.72124052e-01, -5.23562264e-03,\n",
       "       -1.41504318e-01, -3.08319569e-01, -6.18241802e-02,  1.11406922e-01,\n",
       "       -1.16962053e-01, -1.23540677e-01, -3.25764045e-02,  6.86048493e-02,\n",
       "        1.14199370e-01,  9.91106406e-02,  1.27796695e-01,  3.06133389e-01,\n",
       "       -1.72733571e-02,  9.09066647e-02,  1.40689984e-01,  1.65824994e-01,\n",
       "       -5.88407479e-02, -2.10271380e-03,  1.42566502e-01, -6.44279644e-02,\n",
       "       -1.46899587e-02, -6.63242489e-03,  1.08404104e-02, -9.13361087e-03,\n",
       "        3.95119935e-02, -1.83286652e-01, -2.76097059e-02,  1.64868996e-01,\n",
       "       -5.02229072e-02,  1.43618304e-02,  1.32654130e-01, -1.03963561e-01,\n",
       "       -6.86639622e-02,  2.98451513e-01,  2.67145652e-02, -1.50718033e-01,\n",
       "       -2.41432324e-01,  2.02063486e-01, -2.72004724e-01, -1.58596292e-01,\n",
       "       -3.12553793e-02, -5.43380007e-02, -1.07636745e-03,  1.73275903e-01,\n",
       "        3.17081183e-01, -3.30261737e-01,  2.01192543e-01, -8.09881613e-02,\n",
       "        1.70136690e-02, -4.98908088e-02,  2.14258015e-01, -4.92659956e-02,\n",
       "       -3.09366733e-01, -1.03428662e-01, -8.92813131e-02, -1.23122148e-02,\n",
       "       -3.35864216e-01, -2.24802881e-01,  7.98536167e-02, -1.29903793e-01,\n",
       "        1.39251828e-01, -2.19984502e-01, -1.29477814e-01, -7.56299794e-02,\n",
       "        8.83059874e-02,  4.60392088e-02,  3.44772302e-02,  5.71973398e-02,\n",
       "       -1.07933477e-01, -4.42580134e-02, -6.91463649e-02,  7.65752001e-03,\n",
       "        8.85105040e-03,  1.18600555e-01, -1.77537799e-02,  1.28730923e-01,\n",
       "        4.83796187e-03,  3.34688723e-02, -2.91066855e-01,  1.32215738e-01,\n",
       "        2.34830659e-02, -1.43254250e-01,  1.25439122e-01,  2.69508094e-01,\n",
       "        8.77107382e-02,  2.35329866e-01, -1.31004363e-01,  1.28597766e-01,\n",
       "        4.79484536e-02, -1.75771073e-01,  1.82192579e-01, -3.14067192e-02,\n",
       "        2.58944094e-01,  1.44895405e-01, -2.84439206e-01, -1.21633820e-02,\n",
       "       -1.03355676e-01,  5.39339520e-02, -2.12132648e-01, -3.24009149e-03,\n",
       "        2.08621606e-01,  6.83054421e-03, -1.85338676e-01, -1.86218306e-01,\n",
       "       -6.91102445e-02, -2.50008702e-01, -2.38656420e-02,  4.96190274e-03,\n",
       "       -1.63842663e-01,  2.73232579e-01,  9.64356139e-02,  2.03264549e-01,\n",
       "        2.17393786e-02, -5.96309714e-02, -7.63531327e-02,  1.75367817e-01,\n",
       "       -1.56561479e-01, -8.05759430e-02, -3.23315263e-01,  3.70016545e-02,\n",
       "       -1.69127241e-01, -2.59538084e-01, -1.62695676e-01, -9.00658816e-02,\n",
       "       -3.07113260e-01, -1.05132304e-01, -4.02867571e-02, -3.94080669e-01,\n",
       "        7.43068680e-02, -7.21797645e-02, -1.52884096e-01,  1.16163105e-01,\n",
       "       -1.80322342e-02, -9.28115323e-02, -1.58169255e-01, -6.58086166e-02,\n",
       "        2.45502695e-01, -1.76512778e-01, -6.95761666e-02, -1.12668417e-01,\n",
       "       -2.96077967e-01,  1.23259410e-01, -8.65584388e-02,  1.22856937e-01,\n",
       "       -1.00112446e-01,  1.98500663e-01, -2.50075221e-01,  1.96169972e-01,\n",
       "       -7.46170953e-02,  1.74200088e-01,  1.22820951e-01, -5.77780642e-02,\n",
       "        6.10077754e-02,  1.68008417e-01,  1.19465649e-01,  8.66900980e-02,\n",
       "       -4.00765128e-02,  4.09674734e-01,  1.98621973e-01,  9.82032195e-02,\n",
       "       -6.17771335e-02, -9.60351303e-02, -4.40096222e-02, -4.43547219e-02,\n",
       "        6.09218627e-02,  6.51409179e-02,  1.23338178e-01,  2.50453025e-01,\n",
       "        1.23248352e-02,  8.37910697e-02, -7.13695362e-02,  1.78147525e-01,\n",
       "       -7.01460242e-02, -4.88635153e-02,  1.53809041e-01,  2.00659975e-01,\n",
       "       -8.14058930e-02,  2.17626430e-02, -3.92066836e-02, -1.94456950e-01,\n",
       "        1.84466287e-01, -1.97749734e-01,  1.28300767e-02,  3.51146609e-01,\n",
       "       -3.52072306e-02, -9.22230557e-02, -1.03377394e-01,  2.81780839e-01,\n",
       "        7.05620274e-02,  2.04205766e-01,  6.95018191e-03, -3.13943774e-01,\n",
       "        4.88017946e-02, -1.36796415e-01, -2.28592679e-01,  2.13236600e-01,\n",
       "        1.50490001e-01,  1.79928541e-01,  2.36027122e-01, -5.43269841e-03,\n",
       "        6.51234835e-02,  1.65194601e-01, -3.02919149e-02, -1.77537277e-01,\n",
       "        2.38933653e-01,  3.65855210e-02, -2.71293342e-01, -2.07318943e-02,\n",
       "        3.61212529e-03,  2.58292779e-02,  1.77729115e-01,  4.64241952e-02,\n",
       "        1.18705675e-01,  1.11638740e-01, -9.56791267e-02, -6.37889607e-04,\n",
       "        2.08845481e-01, -2.63563007e-01,  3.24858218e-01,  1.67862717e-02,\n",
       "       -1.01831079e-01, -2.28448417e-02,  2.14990616e-01, -1.72253214e-02,\n",
       "       -4.76151444e-02, -5.41272648e-02,  3.71741325e-01, -9.42553394e-03,\n",
       "       -4.55421239e-01, -3.16374935e-02, -7.81032816e-02, -3.07544917e-01,\n",
       "       -2.91716643e-02, -1.24704577e-01, -3.59433852e-02,  3.80469300e-02,\n",
       "       -1.21037036e-01, -7.94651806e-02,  3.92960072e-01, -2.75381058e-01,\n",
       "       -4.95549478e-02, -2.25846712e-02, -7.83802345e-02, -6.62126532e-03,\n",
       "       -2.09925577e-01, -1.61598071e-01, -5.55257648e-02,  2.46670619e-01,\n",
       "       -1.50633216e-01,  1.07076965e-01, -1.47508547e-01, -1.35875359e-01,\n",
       "       -9.61575657e-03,  1.88795775e-01, -1.04421258e-01,  1.06452011e-01],\n",
       "      dtype=float32)"
      ]
     },
     "execution_count": 17,
     "metadata": {},
     "output_type": "execute_result"
    }
   ],
   "source": [
    "dtm['여자'][4] * w2v.wv['여자']"
   ]
  },
  {
   "cell_type": "code",
   "execution_count": 19,
   "metadata": {},
   "outputs": [],
   "source": [
    "temp = np.zeros((len(df),300))\n",
    "cnt = 0\n",
    "for i in range(0,len(df['morphs'])):\n",
    "    for token in df['morphs'][i]:\n",
    "        try:\n",
    "            temp[i] += w2v.wv[token] * dtm[token][i]\n",
    "        except:\n",
    "            cnt += 1"
   ]
  },
  {
   "cell_type": "code",
   "execution_count": 21,
   "metadata": {},
   "outputs": [
    {
     "data": {
      "text/plain": [
       "(28569, 300)"
      ]
     },
     "execution_count": 21,
     "metadata": {},
     "output_type": "execute_result"
    }
   ],
   "source": [
    "temp"
   ]
  },
  {
   "cell_type": "code",
   "execution_count": 23,
   "metadata": {},
   "outputs": [],
   "source": [
    "with open('tfidf_weighted_w2v_cbow2.pickle', 'wb') as f:\n",
    "    pickle.dump(temp, f)"
   ]
  },
  {
   "cell_type": "code",
   "execution_count": 22,
   "metadata": {
    "scrolled": true
   },
   "outputs": [
    {
     "name": "stderr",
     "output_type": "stream",
     "text": [
      "c:\\users\\jinny\\miniconda3\\lib\\site-packages\\smart_open\\smart_open_lib.py:398: UserWarning: This function is deprecated, use smart_open.open instead. See the migration notes for details: https://github.com/RaRe-Technologies/smart_open/blob/master/README.rst#migrating-to-the-new-open-function\n",
      "  'See the migration notes for details: %s' % _MIGRATION_NOTES_URL\n"
     ]
    }
   ],
   "source": [
    "ft = FastText.load(\"FastText_cbow.model\")"
   ]
  },
  {
   "cell_type": "code",
   "execution_count": 24,
   "metadata": {},
   "outputs": [],
   "source": [
    "temp2 = np.zeros((len(df),300))\n",
    "cnt = 0\n",
    "for i in range(0,len(df['morphs'])):\n",
    "    for token in df['morphs'][i]:\n",
    "        try:\n",
    "            temp2[i] += ft.wv[token] * dtm[token][i]\n",
    "        except:\n",
    "            cnt += 1"
   ]
  },
  {
   "cell_type": "code",
   "execution_count": 27,
   "metadata": {},
   "outputs": [
    {
     "data": {
      "text/plain": [
       "271797"
      ]
     },
     "execution_count": 27,
     "metadata": {},
     "output_type": "execute_result"
    }
   ],
   "source": [
    "cnt"
   ]
  },
  {
   "cell_type": "code",
   "execution_count": 26,
   "metadata": {},
   "outputs": [
    {
     "data": {
      "text/plain": [
       "(28569, 300)"
      ]
     },
     "execution_count": 26,
     "metadata": {},
     "output_type": "execute_result"
    }
   ],
   "source": [
    "temp2.shape"
   ]
  },
  {
   "cell_type": "code",
   "execution_count": 28,
   "metadata": {},
   "outputs": [],
   "source": [
    "with open('tfidf_weighted_ft_cbow.pickle', 'wb') as f:\n",
    "    pickle.dump(temp2, f)"
   ]
  },
  {
   "cell_type": "code",
   "execution_count": 21,
   "metadata": {},
   "outputs": [],
   "source": [
    "def tfidf_weighted(a):\n",
    "    temp = np.zeros(300)\n",
    "    cnt = 0\n",
    "    for token in a:\n",
    "        try:\n",
    "            #temp += w2v.wv[token] * \n",
    "            temp += dtm[token]\n",
    "        except:\n",
    "            cnt += 1\n",
    "    return temp #/(len(a)-cnt)"
   ]
  },
  {
   "cell_type": "code",
   "execution_count": null,
   "metadata": {},
   "outputs": [],
   "source": []
  },
  {
   "cell_type": "code",
   "execution_count": 44,
   "metadata": {},
   "outputs": [],
   "source": [
    "with open('tfidf_weighted_w2v_cbow.pickle', 'wb') as f:\n",
    "    pickle.dump(dtm['tfidf_weighted_w2v_cbow'], f)"
   ]
  },
  {
   "cell_type": "markdown",
   "metadata": {},
   "source": [
    "## 다른 사람 코드 참고"
   ]
  },
  {
   "cell_type": "code",
   "execution_count": 45,
   "metadata": {},
   "outputs": [],
   "source": [
    "from gensim.corpora import Dictionary\n",
    "from gensim.models.tfidfmodel import TfidfModel\n",
    "from gensim.matutils import sparse2full"
   ]
  },
  {
   "cell_type": "code",
   "execution_count": 46,
   "metadata": {},
   "outputs": [],
   "source": [
    "docs_dict = Dictionary(df['morphs'])\n",
    "docs_dict.filter_extremes(no_below=20, no_above=0.2)\n",
    "docs_dict.compactify()"
   ]
  },
  {
   "cell_type": "code",
   "execution_count": 50,
   "metadata": {},
   "outputs": [],
   "source": [
    "docs_corpus = [docs_dict.doc2bow(doc) for doc in df['morphs']]\n",
    "model_tfidf = TfidfModel(docs_corpus, id2word=docs_dict)\n",
    "docs_tfidf  = model_tfidf[docs_corpus]"
   ]
  },
  {
   "cell_type": "code",
   "execution_count": 53,
   "metadata": {},
   "outputs": [],
   "source": [
    "docs_vecs   = np.vstack([sparse2full(c, len(docs_dict)) for c in docs_tfidf])"
   ]
  },
  {
   "cell_type": "code",
   "execution_count": 64,
   "metadata": {},
   "outputs": [],
   "source": [
    "tfidf_emb_vecs = np.vstack([w2v.wv[docs_dict[i]] for i in range(len(docs_dict))])"
   ]
  },
  {
   "cell_type": "code",
   "execution_count": 76,
   "metadata": {},
   "outputs": [
    {
     "data": {
      "text/plain": [
       "(28569, 9798)"
      ]
     },
     "execution_count": 76,
     "metadata": {},
     "output_type": "execute_result"
    }
   ],
   "source": [
    "docs_vecs.shape"
   ]
  },
  {
   "cell_type": "code",
   "execution_count": 77,
   "metadata": {},
   "outputs": [
    {
     "data": {
      "text/plain": [
       "(9798, 300)"
      ]
     },
     "execution_count": 77,
     "metadata": {},
     "output_type": "execute_result"
    }
   ],
   "source": [
    "tfidf_emb_vecs.shape"
   ]
  },
  {
   "cell_type": "code",
   "execution_count": 65,
   "metadata": {},
   "outputs": [],
   "source": [
    "docs_emb = np.dot(docs_vecs, tfidf_emb_vecs)"
   ]
  },
  {
   "cell_type": "code",
   "execution_count": 66,
   "metadata": {},
   "outputs": [
    {
     "data": {
      "text/plain": [
       "(28569, 300)"
      ]
     },
     "execution_count": 66,
     "metadata": {},
     "output_type": "execute_result"
    }
   ],
   "source": [
    "docs_emb.shape"
   ]
  },
  {
   "cell_type": "code",
   "execution_count": 74,
   "metadata": {},
   "outputs": [],
   "source": [
    "with open('tfidf_weighted_w2v_cbow_v2.pickle', 'wb') as f:\n",
    "    pickle.dump(docs_emb, f)"
   ]
  },
  {
   "cell_type": "code",
   "execution_count": null,
   "metadata": {},
   "outputs": [],
   "source": []
  }
 ],
 "metadata": {
  "kernelspec": {
   "display_name": "Python 3",
   "language": "python",
   "name": "python3"
  },
  "language_info": {
   "codemirror_mode": {
    "name": "ipython",
    "version": 3
   },
   "file_extension": ".py",
   "mimetype": "text/x-python",
   "name": "python",
   "nbconvert_exporter": "python",
   "pygments_lexer": "ipython3",
   "version": "3.7.3"
  }
 },
 "nbformat": 4,
 "nbformat_minor": 2
}
